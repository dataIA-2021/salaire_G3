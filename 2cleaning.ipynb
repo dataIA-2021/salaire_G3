{
 "cells": [
  {
   "cell_type": "code",
   "execution_count": 1,
   "metadata": {},
   "outputs": [],
   "source": [
    "import pandas as pd\n",
    "import numpy as np\n",
    "\n",
    "import regex\n",
    "import re"
   ]
  },
  {
   "cell_type": "code",
   "execution_count": 2,
   "metadata": {},
   "outputs": [],
   "source": [
    "data = pd.read_json('salary_pred.json', encoding=\"UTF8\")"
   ]
  },
  {
   "cell_type": "code",
   "execution_count": 3,
   "metadata": {},
   "outputs": [
    {
     "data": {
      "text/html": [
       "<div>\n",
       "<style scoped>\n",
       "    .dataframe tbody tr th:only-of-type {\n",
       "        vertical-align: middle;\n",
       "    }\n",
       "\n",
       "    .dataframe tbody tr th {\n",
       "        vertical-align: top;\n",
       "    }\n",
       "\n",
       "    .dataframe thead th {\n",
       "        text-align: right;\n",
       "    }\n",
       "</style>\n",
       "<table border=\"1\" class=\"dataframe\">\n",
       "  <thead>\n",
       "    <tr style=\"text-align: right;\">\n",
       "      <th></th>\n",
       "      <th>_id</th>\n",
       "      <th>job_title</th>\n",
       "      <th>company</th>\n",
       "      <th>job_location</th>\n",
       "      <th>salary</th>\n",
       "      <th>summary</th>\n",
       "      <th>post_date</th>\n",
       "    </tr>\n",
       "  </thead>\n",
       "  <tbody>\n",
       "    <tr>\n",
       "      <th>0</th>\n",
       "      <td>3d5487bc57a59ba4</td>\n",
       "      <td>nouveauData Scientist Big Data (F/H)</td>\n",
       "      <td>AXA</td>\n",
       "      <td>Nanterre (92)</td>\n",
       "      <td></td>\n",
       "      <td>Gestion de projet data et data science. Animat...</td>\n",
       "      <td>Postedil y a 1 jour</td>\n",
       "    </tr>\n",
       "    <tr>\n",
       "      <th>1</th>\n",
       "      <td>de372ba90e161d50</td>\n",
       "      <td>nouveauData Analyst H/F</td>\n",
       "      <td>ACII</td>\n",
       "      <td>37000 Tours</td>\n",
       "      <td>35 000 € - 45 000 € par an</td>\n",
       "      <td>Une société participative et collaborative ave...</td>\n",
       "      <td>Postedil y a 6 jours</td>\n",
       "    </tr>\n",
       "    <tr>\n",
       "      <th>2</th>\n",
       "      <td>42b16956665ad440</td>\n",
       "      <td>Data Analyst</td>\n",
       "      <td>Daher</td>\n",
       "      <td>Tours (37)</td>\n",
       "      <td></td>\n",
       "      <td>Vous avez une appétence pour la data analyse e...</td>\n",
       "      <td>Postedil y a 30+ jours</td>\n",
       "    </tr>\n",
       "    <tr>\n",
       "      <th>3</th>\n",
       "      <td>f4faf36bbce2cda4</td>\n",
       "      <td>Data analyst campagne publicitaire Pinterest à...</td>\n",
       "      <td>Teleperformance Portugal</td>\n",
       "      <td>France</td>\n",
       "      <td></td>\n",
       "      <td>En tant qu’analyste publicitaire, votre rôle s...</td>\n",
       "      <td>Postedil y a 30+ jours</td>\n",
       "    </tr>\n",
       "    <tr>\n",
       "      <th>4</th>\n",
       "      <td>a17e6a7d7f9adb2e</td>\n",
       "      <td>Data Analyst F/H</td>\n",
       "      <td>AUDENSIEL ASSURANCES</td>\n",
       "      <td>Hybrid remote in Tours (37)</td>\n",
       "      <td></td>\n",
       "      <td>33 - 42 k€ brut annuel. Nous sommes à la reche...</td>\n",
       "      <td>Postedil y a 26 jours</td>\n",
       "    </tr>\n",
       "  </tbody>\n",
       "</table>\n",
       "</div>"
      ],
      "text/plain": [
       "                _id                                          job_title  \\\n",
       "0  3d5487bc57a59ba4               nouveauData Scientist Big Data (F/H)   \n",
       "1  de372ba90e161d50                            nouveauData Analyst H/F   \n",
       "2  42b16956665ad440                                       Data Analyst   \n",
       "3  f4faf36bbce2cda4  Data analyst campagne publicitaire Pinterest à...   \n",
       "4  a17e6a7d7f9adb2e                                   Data Analyst F/H   \n",
       "\n",
       "                    company                 job_location  \\\n",
       "0                       AXA                Nanterre (92)   \n",
       "1                      ACII                  37000 Tours   \n",
       "2                     Daher                   Tours (37)   \n",
       "3  Teleperformance Portugal                       France   \n",
       "4      AUDENSIEL ASSURANCES  Hybrid remote in Tours (37)   \n",
       "\n",
       "                       salary  \\\n",
       "0                               \n",
       "1  35 000 € - 45 000 € par an   \n",
       "2                               \n",
       "3                               \n",
       "4                               \n",
       "\n",
       "                                             summary               post_date  \n",
       "0  Gestion de projet data et data science. Animat...     Postedil y a 1 jour  \n",
       "1  Une société participative et collaborative ave...    Postedil y a 6 jours  \n",
       "2  Vous avez une appétence pour la data analyse e...  Postedil y a 30+ jours  \n",
       "3  En tant qu’analyste publicitaire, votre rôle s...  Postedil y a 30+ jours  \n",
       "4  33 - 42 k€ brut annuel. Nous sommes à la reche...   Postedil y a 26 jours  "
      ]
     },
     "execution_count": 3,
     "metadata": {},
     "output_type": "execute_result"
    }
   ],
   "source": [
    "data.head()"
   ]
  },
  {
   "cell_type": "code",
   "execution_count": 4,
   "metadata": {},
   "outputs": [
    {
     "data": {
      "text/html": [
       "<div>\n",
       "<style scoped>\n",
       "    .dataframe tbody tr th:only-of-type {\n",
       "        vertical-align: middle;\n",
       "    }\n",
       "\n",
       "    .dataframe tbody tr th {\n",
       "        vertical-align: top;\n",
       "    }\n",
       "\n",
       "    .dataframe thead th {\n",
       "        text-align: right;\n",
       "    }\n",
       "</style>\n",
       "<table border=\"1\" class=\"dataframe\">\n",
       "  <thead>\n",
       "    <tr style=\"text-align: right;\">\n",
       "      <th></th>\n",
       "      <th>_id</th>\n",
       "      <th>job_title</th>\n",
       "      <th>company</th>\n",
       "      <th>job_location</th>\n",
       "      <th>salary</th>\n",
       "      <th>summary</th>\n",
       "      <th>post_date</th>\n",
       "    </tr>\n",
       "  </thead>\n",
       "  <tbody>\n",
       "    <tr>\n",
       "      <th>count</th>\n",
       "      <td>5179</td>\n",
       "      <td>5179</td>\n",
       "      <td>5179</td>\n",
       "      <td>5179</td>\n",
       "      <td>5179</td>\n",
       "      <td>5179</td>\n",
       "      <td>5179</td>\n",
       "    </tr>\n",
       "    <tr>\n",
       "      <th>unique</th>\n",
       "      <td>5179</td>\n",
       "      <td>4367</td>\n",
       "      <td>2367</td>\n",
       "      <td>923</td>\n",
       "      <td>326</td>\n",
       "      <td>4747</td>\n",
       "      <td>60</td>\n",
       "    </tr>\n",
       "    <tr>\n",
       "      <th>top</th>\n",
       "      <td>3d5487bc57a59ba4</td>\n",
       "      <td>Business Developer H/F</td>\n",
       "      <td>Data Recrutement</td>\n",
       "      <td>Paris (75)</td>\n",
       "      <td></td>\n",
       "      <td>Cette Talent Company rassemble Designers, Stra...</td>\n",
       "      <td>Postedil y a 30+ jours</td>\n",
       "    </tr>\n",
       "    <tr>\n",
       "      <th>freq</th>\n",
       "      <td>1</td>\n",
       "      <td>47</td>\n",
       "      <td>70</td>\n",
       "      <td>1391</td>\n",
       "      <td>4444</td>\n",
       "      <td>13</td>\n",
       "      <td>2600</td>\n",
       "    </tr>\n",
       "  </tbody>\n",
       "</table>\n",
       "</div>"
      ],
      "text/plain": [
       "                     _id               job_title           company  \\\n",
       "count               5179                    5179              5179   \n",
       "unique              5179                    4367              2367   \n",
       "top     3d5487bc57a59ba4  Business Developer H/F  Data Recrutement   \n",
       "freq                   1                      47                70   \n",
       "\n",
       "       job_location salary                                            summary  \\\n",
       "count          5179   5179                                               5179   \n",
       "unique          923    326                                               4747   \n",
       "top      Paris (75)         Cette Talent Company rassemble Designers, Stra...   \n",
       "freq           1391   4444                                                 13   \n",
       "\n",
       "                     post_date  \n",
       "count                     5179  \n",
       "unique                      60  \n",
       "top     Postedil y a 30+ jours  \n",
       "freq                      2600  "
      ]
     },
     "execution_count": 4,
     "metadata": {},
     "output_type": "execute_result"
    }
   ],
   "source": [
    "#data description\n",
    "data.describe()"
   ]
  },
  {
   "cell_type": "code",
   "execution_count": 5,
   "metadata": {},
   "outputs": [
    {
     "name": "stdout",
     "output_type": "stream",
     "text": [
      "<class 'pandas.core.frame.DataFrame'>\n",
      "RangeIndex: 5179 entries, 0 to 5178\n",
      "Data columns (total 7 columns):\n",
      " #   Column        Non-Null Count  Dtype \n",
      "---  ------        --------------  ----- \n",
      " 0   _id           5179 non-null   object\n",
      " 1   job_title     5179 non-null   object\n",
      " 2   company       5179 non-null   object\n",
      " 3   job_location  5179 non-null   object\n",
      " 4   salary        5179 non-null   object\n",
      " 5   summary       5179 non-null   object\n",
      " 6   post_date     5179 non-null   object\n",
      "dtypes: object(7)\n",
      "memory usage: 283.4+ KB\n"
     ]
    }
   ],
   "source": [
    "#Data Informations\n",
    "data.info()"
   ]
  },
  {
   "cell_type": "code",
   "execution_count": 6,
   "metadata": {},
   "outputs": [
    {
     "data": {
      "text/plain": [
       "_id             5179\n",
       "job_title       4367\n",
       "company         2367\n",
       "job_location     923\n",
       "salary           326\n",
       "summary         4747\n",
       "post_date         60\n",
       "dtype: int64"
      ]
     },
     "execution_count": 6,
     "metadata": {},
     "output_type": "execute_result"
    }
   ],
   "source": [
    "data.nunique()"
   ]
  },
  {
   "cell_type": "code",
   "execution_count": 7,
   "metadata": {},
   "outputs": [
    {
     "data": {
      "text/plain": [
       "_id             0\n",
       "job_title       0\n",
       "company         0\n",
       "job_location    0\n",
       "salary          0\n",
       "summary         0\n",
       "post_date       0\n",
       "dtype: int64"
      ]
     },
     "execution_count": 7,
     "metadata": {},
     "output_type": "execute_result"
    }
   ],
   "source": [
    "#Checking missing values\n",
    "\n",
    "data.isnull().sum()"
   ]
  },
  {
   "cell_type": "markdown",
   "metadata": {},
   "source": [
    "### Texte processing"
   ]
  },
  {
   "cell_type": "markdown",
   "metadata": {},
   "source": [
    "### Lowerization"
   ]
  },
  {
   "cell_type": "code",
   "execution_count": 8,
   "metadata": {},
   "outputs": [],
   "source": [
    "data = data.applymap(lambda s: s.lower() if type(s) == str else s)"
   ]
  },
  {
   "cell_type": "markdown",
   "metadata": {},
   "source": [
    "### Location text cleaning"
   ]
  },
  {
   "cell_type": "code",
   "execution_count": 9,
   "metadata": {},
   "outputs": [],
   "source": [
    "data['job_location'] = data['job_location'].apply(lambda x: x.split('.')[0])"
   ]
  },
  {
   "cell_type": "code",
   "execution_count": 10,
   "metadata": {},
   "outputs": [
    {
     "data": {
      "text/plain": [
       "0    nanterre (92)\n",
       "1      37000 tours\n",
       "2       tours (37)\n",
       "3           france\n",
       "4       tours (37)\n",
       "Name: job_location, dtype: object"
      ]
     },
     "execution_count": 10,
     "metadata": {},
     "output_type": "execute_result"
    }
   ],
   "source": [
    "data['job_location'] = data['job_location'].apply(lambda x: x\n",
    "                                    .replace('télétravail', '')\n",
    "                                    .replace('temporaire', '')\n",
    "                                    .replace('hybrid remote', '')\n",
    "                                    .replace('in', '')\n",
    "                                    .replace('+', '')\n",
    "                                    .replace('lieu', ''))\n",
    "data['job_location'].head()"
   ]
  },
  {
   "cell_type": "code",
   "execution_count": 11,
   "metadata": {},
   "outputs": [],
   "source": [
    "location_data = data['job_location'].replace(to_replace=r'.\\d+.|[+]', value='', regex=True)"
   ]
  },
  {
   "cell_type": "code",
   "execution_count": 12,
   "metadata": {},
   "outputs": [
    {
     "data": {
      "text/plain": [
       "0    Nanterre \n",
       "1        Tours\n",
       "2       Tours \n",
       "3       France\n",
       "4       tours \n",
       "Name: Location, dtype: object"
      ]
     },
     "execution_count": 12,
     "metadata": {},
     "output_type": "execute_result"
    }
   ],
   "source": [
    "data['Location'] = location_data.apply(lambda x: x.split('-')[0]).str.capitalize()\n",
    "data['Location'].head()"
   ]
  },
  {
   "cell_type": "markdown",
   "metadata": {},
   "source": [
    "### Salary processing: Minimum, maximum et mean\n",
    "\n",
    "### Salary features: salary pay type\n",
    "\n",
    "par heure, par jour, par semaine, par mois, par an"
   ]
  },
  {
   "cell_type": "code",
   "execution_count": 13,
   "metadata": {},
   "outputs": [],
   "source": [
    "#Creating columns for each salay pay type\n",
    "data['per_hour'] = data['salary'].apply(lambda x: 1 if 'par heure' in x else 0 )"
   ]
  },
  {
   "cell_type": "code",
   "execution_count": 14,
   "metadata": {},
   "outputs": [],
   "source": [
    "data['per_day'] = data['salary'].apply(lambda x: 1 if 'par jour' in x else 0 )"
   ]
  },
  {
   "cell_type": "code",
   "execution_count": 15,
   "metadata": {},
   "outputs": [],
   "source": [
    "data['per_week'] = data['salary'].apply(lambda x: 1 if 'par semaine' in x else 0 )"
   ]
  },
  {
   "cell_type": "code",
   "execution_count": 16,
   "metadata": {},
   "outputs": [],
   "source": [
    "data['per_month'] = data['salary'].apply(lambda x: 1 if 'par mois' in x else 0 )"
   ]
  },
  {
   "cell_type": "code",
   "execution_count": 17,
   "metadata": {},
   "outputs": [],
   "source": [
    "data['per_year'] = data['salary'].apply(lambda x: 1 if 'par an' in x else 0 )"
   ]
  },
  {
   "cell_type": "markdown",
   "metadata": {},
   "source": [
    "### salary text cleaning"
   ]
  },
  {
   "cell_type": "code",
   "execution_count": 18,
   "metadata": {},
   "outputs": [],
   "source": [
    "#removing (,) and replacing it by a (.)\n",
    "first_clean = data['salary'].str.replace(',', '.')"
   ]
  },
  {
   "cell_type": "code",
   "execution_count": 19,
   "metadata": {},
   "outputs": [],
   "source": [
    "#removing all characters[a-z] except figures[0-9], regex\n",
    "clean_salary = first_clean.replace(to_replace=r'[a-z]|[€]|[ ]', value='', regex=True)"
   ]
  },
  {
   "cell_type": "markdown",
   "metadata": {},
   "source": [
    "### Salary data analysis"
   ]
  },
  {
   "cell_type": "markdown",
   "metadata": {},
   "source": [
    "#### Calculating the minimum salary"
   ]
  },
  {
   "cell_type": "code",
   "execution_count": 20,
   "metadata": {},
   "outputs": [],
   "source": [
    "#spliting the range salary 1st value[0], as min_sal = minimum salary, str\n",
    "\n",
    "min_salary = clean_salary.apply(lambda x: x.split('-')[0])"
   ]
  },
  {
   "cell_type": "code",
   "execution_count": 21,
   "metadata": {},
   "outputs": [],
   "source": [
    "#converting to numeric values, float type\n",
    "\n",
    "minimum = pd.to_numeric(min_salary, errors='coerce').astype(float)"
   ]
  },
  {
   "cell_type": "markdown",
   "metadata": {},
   "source": [
    "### Minimum Annual salary"
   ]
  },
  {
   "cell_type": "code",
   "execution_count": 22,
   "metadata": {},
   "outputs": [],
   "source": [
    "#Annual minimum salary\n",
    "\n",
    "m1 = data['salary'].str.contains('par heure')\n",
    "m2 = data['salary'].str.contains('par jour')\n",
    "m3 = data['salary'].str.contains('par semaine')\n",
    "m4 = data['salary'].str.contains('par mois')\n",
    "\n",
    "data['minimum_annual_salary'] = np.select([m1, m2, m3, m4],\n",
    "                                  [minimum*1825, #converting hourly to annual\n",
    "                                   minimum*260,   #converting daily to annual                               \n",
    "                                   minimum*52,    #weeklyly to annual\n",
    "                                   minimum*12],   #monthly to annual\n",
    "                                   default=minimum) #default value\n",
    "#data['minimum_annual_salary'].describe().round()"
   ]
  },
  {
   "cell_type": "markdown",
   "metadata": {},
   "source": [
    "### Minimum Monthly salary"
   ]
  },
  {
   "cell_type": "code",
   "execution_count": 23,
   "metadata": {},
   "outputs": [],
   "source": [
    "#Monthly minimum salary\n",
    "w1 = data['salary'].str.contains('par heure')\n",
    "w2 = data['salary'].str.contains('par jour')\n",
    "w3 = data['salary'].str.contains('par semaine')\n",
    "w4 = data['salary'].str.contains('par an')\n",
    "\n",
    "data['minimum_monthly_salary'] = np.select([w1, w2, w3, w4],\n",
    "                                  [minimum*152, #converting hourly to monthly\n",
    "                                   minimum*22,   #converting daily to monthly                               \n",
    "                                   minimum*4,    #weeklyly to monthly\n",
    "                                   minimum/12],   #annual to monthly\n",
    "                                   default=minimum) #default value\n",
    "#data['minimum_monthly_salary'].describe().round()"
   ]
  },
  {
   "cell_type": "markdown",
   "metadata": {},
   "source": [
    "### Calculating the maximum salary"
   ]
  },
  {
   "cell_type": "code",
   "execution_count": 24,
   "metadata": {},
   "outputs": [],
   "source": [
    "#spliting the range salary 2nd value[1], as max_sal = maximum salary, str\n",
    "\n",
    "max_salary = clean_salary.apply(lambda x: x.split('-')[1] if len(x.split('-'))>1 else x)"
   ]
  },
  {
   "cell_type": "code",
   "execution_count": 25,
   "metadata": {},
   "outputs": [],
   "source": [
    "#numeric value\n",
    "maximum = pd.to_numeric(max_salary, errors='coerce').astype(float)"
   ]
  },
  {
   "cell_type": "markdown",
   "metadata": {},
   "source": [
    "### Annual Maximum salary"
   ]
  },
  {
   "cell_type": "code",
   "execution_count": 26,
   "metadata": {},
   "outputs": [],
   "source": [
    "#Annual maximum salary\n",
    "\n",
    "m1 = data['salary'].str.contains('par heure')\n",
    "m2 = data['salary'].str.contains('par jour')\n",
    "m3 = data['salary'].str.contains('par semaine')\n",
    "m4 = data['salary'].str.contains('par mois')\n",
    "\n",
    "data['maximum_annual_salary'] = np.select([m1, m2, m3, m4],\n",
    "                                  [maximum*1825, #converting hourly to annual\n",
    "                                   maximum*260,   #converting daily to annual                               \n",
    "                                   maximum*52,    #weeklyly to annual\n",
    "                                   maximum*12],   #monthly to annual\n",
    "                                   default=maximum) #default value\n",
    "#data['maximum_monthly_salary'].describe().round()"
   ]
  },
  {
   "cell_type": "code",
   "execution_count": 27,
   "metadata": {},
   "outputs": [],
   "source": [
    "#Monthly salary\n",
    "w1 = data['salary'].str.contains('par heure')\n",
    "w2 = data['salary'].str.contains('par jour')\n",
    "w3 = data['salary'].str.contains('par semaine')\n",
    "w4 = data['salary'].str.contains('par an')\n",
    "\n",
    "data['maximum_monthly_salary'] = np.select([w1, w2, w3, w4],\n",
    "                                  [maximum*152, #converting hourly to monthly\n",
    "                                   maximum*22,   #converting daily to monthly                               \n",
    "                                   maximum*4,    #weeklyly to monthly\n",
    "                                   maximum/12],   #annual to monthly\n",
    "                                   default=maximum) #default value\n",
    "#data['maximum_monthly_salary'].describe().round()"
   ]
  },
  {
   "cell_type": "markdown",
   "metadata": {},
   "source": [
    "### Average Salary"
   ]
  },
  {
   "cell_type": "markdown",
   "metadata": {},
   "source": [
    "#### Average Annual Salary"
   ]
  },
  {
   "cell_type": "code",
   "execution_count": 28,
   "metadata": {},
   "outputs": [],
   "source": [
    "# Annual average salary; (min + max)/2\n",
    "\n",
    "data['annual_average_salary'] = (data['minimum_annual_salary'] + data['maximum_annual_salary'])/2"
   ]
  },
  {
   "cell_type": "markdown",
   "metadata": {},
   "source": [
    "#### Average Monthly salary"
   ]
  },
  {
   "cell_type": "code",
   "execution_count": 32,
   "metadata": {},
   "outputs": [],
   "source": [
    "data['monthly_average_salary'] = (data['minimum_monthly_salary'] + data['maximum_monthly_salary'])/2"
   ]
  },
  {
   "cell_type": "markdown",
   "metadata": {},
   "source": [
    "Reference: \n",
    "\n",
    "1. <a href=\"https://www.geeksforgeeks.org/get-all-rows-in-a-pandas-dataframe-containing-given-substring/\">Get all rows in a Pandas DataFrame containing</a>\n",
    "\n",
    "2. <a href=\"https://nycdatascience.com/blog/student-works/job-salary-prediction-with-python/\">Job Salary Prediction with Python</a>\n",
    "\n",
    "3. <a href=\"https://pandas.pydata.org/docs/reference/api/pandas.Series.replace.html\">pandas.Series.replace</a>"
   ]
  },
  {
   "cell_type": "code",
   "execution_count": 33,
   "metadata": {},
   "outputs": [
    {
     "data": {
      "text/html": [
       "<div>\n",
       "<style scoped>\n",
       "    .dataframe tbody tr th:only-of-type {\n",
       "        vertical-align: middle;\n",
       "    }\n",
       "\n",
       "    .dataframe tbody tr th {\n",
       "        vertical-align: top;\n",
       "    }\n",
       "\n",
       "    .dataframe thead th {\n",
       "        text-align: right;\n",
       "    }\n",
       "</style>\n",
       "<table border=\"1\" class=\"dataframe\">\n",
       "  <thead>\n",
       "    <tr style=\"text-align: right;\">\n",
       "      <th></th>\n",
       "      <th>_id</th>\n",
       "      <th>job_title</th>\n",
       "      <th>company</th>\n",
       "      <th>job_location</th>\n",
       "      <th>salary</th>\n",
       "      <th>summary</th>\n",
       "      <th>post_date</th>\n",
       "      <th>Location</th>\n",
       "      <th>per_hour</th>\n",
       "      <th>per_day</th>\n",
       "      <th>per_week</th>\n",
       "      <th>per_month</th>\n",
       "      <th>per_year</th>\n",
       "      <th>minimum_annual_salary</th>\n",
       "      <th>minimum_monthly_salary</th>\n",
       "      <th>maximum_annual_salary</th>\n",
       "      <th>maximum_monthly_salary</th>\n",
       "      <th>annual_average_salary</th>\n",
       "      <th>monthly_average_salary</th>\n",
       "    </tr>\n",
       "  </thead>\n",
       "  <tbody>\n",
       "    <tr>\n",
       "      <th>0</th>\n",
       "      <td>3d5487bc57a59ba4</td>\n",
       "      <td>nouveaudata scientist big data (f/h)</td>\n",
       "      <td>axa</td>\n",
       "      <td>nanterre (92)</td>\n",
       "      <td></td>\n",
       "      <td>gestion de projet data et data science. animat...</td>\n",
       "      <td>postedil y a 1 jour</td>\n",
       "      <td>Nanterre</td>\n",
       "      <td>0</td>\n",
       "      <td>0</td>\n",
       "      <td>0</td>\n",
       "      <td>0</td>\n",
       "      <td>0</td>\n",
       "      <td>NaN</td>\n",
       "      <td>NaN</td>\n",
       "      <td>NaN</td>\n",
       "      <td>NaN</td>\n",
       "      <td>NaN</td>\n",
       "      <td>NaN</td>\n",
       "    </tr>\n",
       "    <tr>\n",
       "      <th>1</th>\n",
       "      <td>de372ba90e161d50</td>\n",
       "      <td>nouveaudata analyst h/f</td>\n",
       "      <td>acii</td>\n",
       "      <td>37000 tours</td>\n",
       "      <td>35 000 € - 45 000 € par an</td>\n",
       "      <td>une société participative et collaborative ave...</td>\n",
       "      <td>postedil y a 6 jours</td>\n",
       "      <td>Tours</td>\n",
       "      <td>0</td>\n",
       "      <td>0</td>\n",
       "      <td>0</td>\n",
       "      <td>0</td>\n",
       "      <td>1</td>\n",
       "      <td>35000.0</td>\n",
       "      <td>2916.666667</td>\n",
       "      <td>45000.0</td>\n",
       "      <td>3750.0</td>\n",
       "      <td>3333.333333</td>\n",
       "      <td>3333.333333</td>\n",
       "    </tr>\n",
       "    <tr>\n",
       "      <th>2</th>\n",
       "      <td>42b16956665ad440</td>\n",
       "      <td>data analyst</td>\n",
       "      <td>daher</td>\n",
       "      <td>tours (37)</td>\n",
       "      <td></td>\n",
       "      <td>vous avez une appétence pour la data analyse e...</td>\n",
       "      <td>postedil y a 30+ jours</td>\n",
       "      <td>Tours</td>\n",
       "      <td>0</td>\n",
       "      <td>0</td>\n",
       "      <td>0</td>\n",
       "      <td>0</td>\n",
       "      <td>0</td>\n",
       "      <td>NaN</td>\n",
       "      <td>NaN</td>\n",
       "      <td>NaN</td>\n",
       "      <td>NaN</td>\n",
       "      <td>NaN</td>\n",
       "      <td>NaN</td>\n",
       "    </tr>\n",
       "    <tr>\n",
       "      <th>3</th>\n",
       "      <td>f4faf36bbce2cda4</td>\n",
       "      <td>data analyst campagne publicitaire pinterest à...</td>\n",
       "      <td>teleperformance portugal</td>\n",
       "      <td>france</td>\n",
       "      <td></td>\n",
       "      <td>en tant qu’analyste publicitaire, votre rôle s...</td>\n",
       "      <td>postedil y a 30+ jours</td>\n",
       "      <td>France</td>\n",
       "      <td>0</td>\n",
       "      <td>0</td>\n",
       "      <td>0</td>\n",
       "      <td>0</td>\n",
       "      <td>0</td>\n",
       "      <td>NaN</td>\n",
       "      <td>NaN</td>\n",
       "      <td>NaN</td>\n",
       "      <td>NaN</td>\n",
       "      <td>NaN</td>\n",
       "      <td>NaN</td>\n",
       "    </tr>\n",
       "    <tr>\n",
       "      <th>4</th>\n",
       "      <td>a17e6a7d7f9adb2e</td>\n",
       "      <td>data analyst f/h</td>\n",
       "      <td>audensiel assurances</td>\n",
       "      <td>tours (37)</td>\n",
       "      <td></td>\n",
       "      <td>33 - 42 k€ brut annuel. nous sommes à la reche...</td>\n",
       "      <td>postedil y a 26 jours</td>\n",
       "      <td>tours</td>\n",
       "      <td>0</td>\n",
       "      <td>0</td>\n",
       "      <td>0</td>\n",
       "      <td>0</td>\n",
       "      <td>0</td>\n",
       "      <td>NaN</td>\n",
       "      <td>NaN</td>\n",
       "      <td>NaN</td>\n",
       "      <td>NaN</td>\n",
       "      <td>NaN</td>\n",
       "      <td>NaN</td>\n",
       "    </tr>\n",
       "  </tbody>\n",
       "</table>\n",
       "</div>"
      ],
      "text/plain": [
       "                _id                                          job_title  \\\n",
       "0  3d5487bc57a59ba4               nouveaudata scientist big data (f/h)   \n",
       "1  de372ba90e161d50                            nouveaudata analyst h/f   \n",
       "2  42b16956665ad440                                       data analyst   \n",
       "3  f4faf36bbce2cda4  data analyst campagne publicitaire pinterest à...   \n",
       "4  a17e6a7d7f9adb2e                                   data analyst f/h   \n",
       "\n",
       "                    company   job_location                      salary  \\\n",
       "0                       axa  nanterre (92)                               \n",
       "1                      acii    37000 tours  35 000 € - 45 000 € par an   \n",
       "2                     daher     tours (37)                               \n",
       "3  teleperformance portugal         france                               \n",
       "4      audensiel assurances     tours (37)                               \n",
       "\n",
       "                                             summary               post_date  \\\n",
       "0  gestion de projet data et data science. animat...     postedil y a 1 jour   \n",
       "1  une société participative et collaborative ave...    postedil y a 6 jours   \n",
       "2  vous avez une appétence pour la data analyse e...  postedil y a 30+ jours   \n",
       "3  en tant qu’analyste publicitaire, votre rôle s...  postedil y a 30+ jours   \n",
       "4  33 - 42 k€ brut annuel. nous sommes à la reche...   postedil y a 26 jours   \n",
       "\n",
       "    Location  per_hour  per_day  per_week  per_month  per_year  \\\n",
       "0  Nanterre          0        0         0          0         0   \n",
       "1      Tours         0        0         0          0         1   \n",
       "2     Tours          0        0         0          0         0   \n",
       "3     France         0        0         0          0         0   \n",
       "4     tours          0        0         0          0         0   \n",
       "\n",
       "   minimum_annual_salary  minimum_monthly_salary  maximum_annual_salary  \\\n",
       "0                    NaN                     NaN                    NaN   \n",
       "1                35000.0             2916.666667                45000.0   \n",
       "2                    NaN                     NaN                    NaN   \n",
       "3                    NaN                     NaN                    NaN   \n",
       "4                    NaN                     NaN                    NaN   \n",
       "\n",
       "   maximum_monthly_salary  annual_average_salary  monthly_average_salary  \n",
       "0                     NaN                    NaN                     NaN  \n",
       "1                  3750.0            3333.333333             3333.333333  \n",
       "2                     NaN                    NaN                     NaN  \n",
       "3                     NaN                    NaN                     NaN  \n",
       "4                     NaN                    NaN                     NaN  "
      ]
     },
     "execution_count": 33,
     "metadata": {},
     "output_type": "execute_result"
    }
   ],
   "source": [
    "data.head()"
   ]
  },
  {
   "cell_type": "code",
   "execution_count": null,
   "metadata": {},
   "outputs": [],
   "source": []
  },
  {
   "cell_type": "code",
   "execution_count": null,
   "metadata": {},
   "outputs": [],
   "source": []
  },
  {
   "cell_type": "code",
   "execution_count": null,
   "metadata": {},
   "outputs": [],
   "source": []
  }
 ],
 "metadata": {
  "interpreter": {
   "hash": "916dbcbb3f70747c44a77c7bcd40155683ae19c65e1c03b4aa3499c5328201f1"
  },
  "kernelspec": {
   "display_name": "Python 3.8.10 64-bit",
   "language": "python",
   "name": "python3810jvsc74a57bd0916dbcbb3f70747c44a77c7bcd40155683ae19c65e1c03b4aa3499c5328201f1"
  },
  "language_info": {
   "codemirror_mode": {
    "name": "ipython",
    "version": 3
   },
   "file_extension": ".py",
   "mimetype": "text/x-python",
   "name": "python",
   "nbconvert_exporter": "python",
   "pygments_lexer": "ipython3",
   "version": "3.8.10"
  }
 },
 "nbformat": 4,
 "nbformat_minor": 2
}
