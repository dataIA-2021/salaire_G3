{
 "cells": [
  {
   "cell_type": "code",
   "execution_count": 1,
   "metadata": {},
   "outputs": [],
   "source": [
    "import pandas as pd\n",
    "import numpy as np\n",
    "import matplotlib.pyplot as plt\n",
    "import plotly.express as px\n",
    "import seaborn as sns\n",
    "import re"
   ]
  },
  {
   "cell_type": "code",
   "execution_count": 2,
   "metadata": {},
   "outputs": [],
   "source": [
    "data = pd.read_json('salary_pred.json', encoding=\"UTF8\")"
   ]
  },
  {
   "cell_type": "code",
   "execution_count": 3,
   "metadata": {},
   "outputs": [
    {
     "data": {
      "text/html": [
       "<div>\n",
       "<style scoped>\n",
       "    .dataframe tbody tr th:only-of-type {\n",
       "        vertical-align: middle;\n",
       "    }\n",
       "\n",
       "    .dataframe tbody tr th {\n",
       "        vertical-align: top;\n",
       "    }\n",
       "\n",
       "    .dataframe thead th {\n",
       "        text-align: right;\n",
       "    }\n",
       "</style>\n",
       "<table border=\"1\" class=\"dataframe\">\n",
       "  <thead>\n",
       "    <tr style=\"text-align: right;\">\n",
       "      <th></th>\n",
       "      <th>_id</th>\n",
       "      <th>job_title</th>\n",
       "      <th>company</th>\n",
       "      <th>job_location</th>\n",
       "      <th>salary</th>\n",
       "      <th>summary</th>\n",
       "      <th>post_date</th>\n",
       "    </tr>\n",
       "  </thead>\n",
       "  <tbody>\n",
       "    <tr>\n",
       "      <th>0</th>\n",
       "      <td>3d5487bc57a59ba4</td>\n",
       "      <td>nouveauData Scientist Big Data (F/H)</td>\n",
       "      <td>AXA</td>\n",
       "      <td>Nanterre (92)</td>\n",
       "      <td></td>\n",
       "      <td>Gestion de projet data et data science. Animat...</td>\n",
       "      <td>Postedil y a 1 jour</td>\n",
       "    </tr>\n",
       "    <tr>\n",
       "      <th>1</th>\n",
       "      <td>de372ba90e161d50</td>\n",
       "      <td>nouveauData Analyst H/F</td>\n",
       "      <td>ACII</td>\n",
       "      <td>37000 Tours</td>\n",
       "      <td>35 000 € - 45 000 € par an</td>\n",
       "      <td>Une société participative et collaborative ave...</td>\n",
       "      <td>Postedil y a 6 jours</td>\n",
       "    </tr>\n",
       "    <tr>\n",
       "      <th>2</th>\n",
       "      <td>42b16956665ad440</td>\n",
       "      <td>Data Analyst</td>\n",
       "      <td>Daher</td>\n",
       "      <td>Tours (37)</td>\n",
       "      <td></td>\n",
       "      <td>Vous avez une appétence pour la data analyse e...</td>\n",
       "      <td>Postedil y a 30+ jours</td>\n",
       "    </tr>\n",
       "    <tr>\n",
       "      <th>3</th>\n",
       "      <td>f4faf36bbce2cda4</td>\n",
       "      <td>Data analyst campagne publicitaire Pinterest à...</td>\n",
       "      <td>Teleperformance Portugal</td>\n",
       "      <td>France</td>\n",
       "      <td></td>\n",
       "      <td>En tant qu’analyste publicitaire, votre rôle s...</td>\n",
       "      <td>Postedil y a 30+ jours</td>\n",
       "    </tr>\n",
       "    <tr>\n",
       "      <th>4</th>\n",
       "      <td>a17e6a7d7f9adb2e</td>\n",
       "      <td>Data Analyst F/H</td>\n",
       "      <td>AUDENSIEL ASSURANCES</td>\n",
       "      <td>Hybrid remote in Tours (37)</td>\n",
       "      <td></td>\n",
       "      <td>33 - 42 k€ brut annuel. Nous sommes à la reche...</td>\n",
       "      <td>Postedil y a 26 jours</td>\n",
       "    </tr>\n",
       "  </tbody>\n",
       "</table>\n",
       "</div>"
      ],
      "text/plain": [
       "                _id                                          job_title  \\\n",
       "0  3d5487bc57a59ba4               nouveauData Scientist Big Data (F/H)   \n",
       "1  de372ba90e161d50                            nouveauData Analyst H/F   \n",
       "2  42b16956665ad440                                       Data Analyst   \n",
       "3  f4faf36bbce2cda4  Data analyst campagne publicitaire Pinterest à...   \n",
       "4  a17e6a7d7f9adb2e                                   Data Analyst F/H   \n",
       "\n",
       "                    company                 job_location  \\\n",
       "0                       AXA                Nanterre (92)   \n",
       "1                      ACII                  37000 Tours   \n",
       "2                     Daher                   Tours (37)   \n",
       "3  Teleperformance Portugal                       France   \n",
       "4      AUDENSIEL ASSURANCES  Hybrid remote in Tours (37)   \n",
       "\n",
       "                       salary  \\\n",
       "0                               \n",
       "1  35 000 € - 45 000 € par an   \n",
       "2                               \n",
       "3                               \n",
       "4                               \n",
       "\n",
       "                                             summary               post_date  \n",
       "0  Gestion de projet data et data science. Animat...     Postedil y a 1 jour  \n",
       "1  Une société participative et collaborative ave...    Postedil y a 6 jours  \n",
       "2  Vous avez une appétence pour la data analyse e...  Postedil y a 30+ jours  \n",
       "3  En tant qu’analyste publicitaire, votre rôle s...  Postedil y a 30+ jours  \n",
       "4  33 - 42 k€ brut annuel. Nous sommes à la reche...   Postedil y a 26 jours  "
      ]
     },
     "execution_count": 3,
     "metadata": {},
     "output_type": "execute_result"
    }
   ],
   "source": [
    "data.head()"
   ]
  },
  {
   "cell_type": "code",
   "execution_count": 4,
   "metadata": {},
   "outputs": [
    {
     "data": {
      "text/html": [
       "<div>\n",
       "<style scoped>\n",
       "    .dataframe tbody tr th:only-of-type {\n",
       "        vertical-align: middle;\n",
       "    }\n",
       "\n",
       "    .dataframe tbody tr th {\n",
       "        vertical-align: top;\n",
       "    }\n",
       "\n",
       "    .dataframe thead th {\n",
       "        text-align: right;\n",
       "    }\n",
       "</style>\n",
       "<table border=\"1\" class=\"dataframe\">\n",
       "  <thead>\n",
       "    <tr style=\"text-align: right;\">\n",
       "      <th></th>\n",
       "      <th>_id</th>\n",
       "      <th>job_title</th>\n",
       "      <th>company</th>\n",
       "      <th>job_location</th>\n",
       "      <th>salary</th>\n",
       "      <th>summary</th>\n",
       "      <th>post_date</th>\n",
       "    </tr>\n",
       "  </thead>\n",
       "  <tbody>\n",
       "    <tr>\n",
       "      <th>count</th>\n",
       "      <td>5179</td>\n",
       "      <td>5179</td>\n",
       "      <td>5179</td>\n",
       "      <td>5179</td>\n",
       "      <td>5179</td>\n",
       "      <td>5179</td>\n",
       "      <td>5179</td>\n",
       "    </tr>\n",
       "    <tr>\n",
       "      <th>unique</th>\n",
       "      <td>5179</td>\n",
       "      <td>4367</td>\n",
       "      <td>2367</td>\n",
       "      <td>923</td>\n",
       "      <td>326</td>\n",
       "      <td>4747</td>\n",
       "      <td>60</td>\n",
       "    </tr>\n",
       "    <tr>\n",
       "      <th>top</th>\n",
       "      <td>3d5487bc57a59ba4</td>\n",
       "      <td>Business Developer H/F</td>\n",
       "      <td>Data Recrutement</td>\n",
       "      <td>Paris (75)</td>\n",
       "      <td></td>\n",
       "      <td>Cette Talent Company rassemble Designers, Stra...</td>\n",
       "      <td>Postedil y a 30+ jours</td>\n",
       "    </tr>\n",
       "    <tr>\n",
       "      <th>freq</th>\n",
       "      <td>1</td>\n",
       "      <td>47</td>\n",
       "      <td>70</td>\n",
       "      <td>1391</td>\n",
       "      <td>4444</td>\n",
       "      <td>13</td>\n",
       "      <td>2600</td>\n",
       "    </tr>\n",
       "  </tbody>\n",
       "</table>\n",
       "</div>"
      ],
      "text/plain": [
       "                     _id               job_title           company  \\\n",
       "count               5179                    5179              5179   \n",
       "unique              5179                    4367              2367   \n",
       "top     3d5487bc57a59ba4  Business Developer H/F  Data Recrutement   \n",
       "freq                   1                      47                70   \n",
       "\n",
       "       job_location salary                                            summary  \\\n",
       "count          5179   5179                                               5179   \n",
       "unique          923    326                                               4747   \n",
       "top      Paris (75)         Cette Talent Company rassemble Designers, Stra...   \n",
       "freq           1391   4444                                                 13   \n",
       "\n",
       "                     post_date  \n",
       "count                     5179  \n",
       "unique                      60  \n",
       "top     Postedil y a 30+ jours  \n",
       "freq                      2600  "
      ]
     },
     "execution_count": 4,
     "metadata": {},
     "output_type": "execute_result"
    }
   ],
   "source": [
    "#data description\n",
    "data.describe()"
   ]
  },
  {
   "cell_type": "code",
   "execution_count": 5,
   "metadata": {},
   "outputs": [
    {
     "name": "stdout",
     "output_type": "stream",
     "text": [
      "<class 'pandas.core.frame.DataFrame'>\n",
      "RangeIndex: 5179 entries, 0 to 5178\n",
      "Data columns (total 7 columns):\n",
      " #   Column        Non-Null Count  Dtype \n",
      "---  ------        --------------  ----- \n",
      " 0   _id           5179 non-null   object\n",
      " 1   job_title     5179 non-null   object\n",
      " 2   company       5179 non-null   object\n",
      " 3   job_location  5179 non-null   object\n",
      " 4   salary        5179 non-null   object\n",
      " 5   summary       5179 non-null   object\n",
      " 6   post_date     5179 non-null   object\n",
      "dtypes: object(7)\n",
      "memory usage: 283.4+ KB\n"
     ]
    }
   ],
   "source": [
    "#Data Informations\n",
    "data.info()"
   ]
  },
  {
   "cell_type": "code",
   "execution_count": 6,
   "metadata": {},
   "outputs": [
    {
     "data": {
      "text/plain": [
       "_id             5179\n",
       "job_title       4367\n",
       "company         2367\n",
       "job_location     923\n",
       "salary           326\n",
       "summary         4747\n",
       "post_date         60\n",
       "dtype: int64"
      ]
     },
     "execution_count": 6,
     "metadata": {},
     "output_type": "execute_result"
    }
   ],
   "source": [
    "data.nunique()"
   ]
  },
  {
   "cell_type": "code",
   "execution_count": 7,
   "metadata": {},
   "outputs": [
    {
     "data": {
      "text/plain": [
       "_id             0\n",
       "job_title       0\n",
       "company         0\n",
       "job_location    0\n",
       "salary          0\n",
       "summary         0\n",
       "post_date       0\n",
       "dtype: int64"
      ]
     },
     "execution_count": 7,
     "metadata": {},
     "output_type": "execute_result"
    }
   ],
   "source": [
    "#Checking missing values\n",
    "\n",
    "data.isnull().sum()"
   ]
  },
  {
   "cell_type": "code",
   "execution_count": 8,
   "metadata": {},
   "outputs": [
    {
     "data": {
      "text/plain": [
       "(5179, 7)"
      ]
     },
     "execution_count": 8,
     "metadata": {},
     "output_type": "execute_result"
    }
   ],
   "source": [
    "#Dropping the NULL Values from Column, 'Salaire'\n",
    "\n",
    "data = data.dropna()\n",
    "data.shape"
   ]
  },
  {
   "cell_type": "markdown",
   "metadata": {},
   "source": [
    "### Texte processing"
   ]
  },
  {
   "cell_type": "markdown",
   "metadata": {},
   "source": [
    "### Lowerization"
   ]
  },
  {
   "cell_type": "code",
   "execution_count": 9,
   "metadata": {},
   "outputs": [],
   "source": [
    "data = data.applymap(lambda s: s.lower() if type(s) == str else s)"
   ]
  },
  {
   "cell_type": "markdown",
   "metadata": {},
   "source": [
    "### Salary processing: Minimum, maximum et mean\n",
    "\n",
    "salary pay type: par heure, par jour, par semaine, par mois, par an"
   ]
  },
  {
   "cell_type": "code",
   "execution_count": 10,
   "metadata": {},
   "outputs": [],
   "source": [
    "#Creating columns for each salay pay type\n",
    "data['per_hour'] = data['salary'].apply(lambda x: 1 if 'par heure' in x.lower() else 0 )"
   ]
  },
  {
   "cell_type": "code",
   "execution_count": 11,
   "metadata": {},
   "outputs": [],
   "source": [
    "data['per_day'] = data['salary'].apply(lambda x: 1 if 'par jour' in x.lower() else 0 )"
   ]
  },
  {
   "cell_type": "code",
   "execution_count": 12,
   "metadata": {},
   "outputs": [],
   "source": [
    "data['per_week'] = data['salary'].apply(lambda x: 1 if 'par semaine' in x.lower() else 0 )"
   ]
  },
  {
   "cell_type": "code",
   "execution_count": 13,
   "metadata": {},
   "outputs": [],
   "source": [
    "data['per_month'] = data['salary'].apply(lambda x: 1 if 'par mois' in x.lower() else 0 )"
   ]
  },
  {
   "cell_type": "code",
   "execution_count": 14,
   "metadata": {},
   "outputs": [],
   "source": [
    "data['per_year'] = data['salary'].apply(lambda x: 1 if 'par an' in x.lower() else 0 )"
   ]
  },
  {
   "cell_type": "code",
   "execution_count": 64,
   "metadata": {},
   "outputs": [
    {
     "data": {
      "text/plain": [
       "count     5179\n",
       "unique     321\n",
       "top           \n",
       "freq      4445\n",
       "Name: salary, dtype: object"
      ]
     },
     "execution_count": 64,
     "metadata": {},
     "output_type": "execute_result"
    }
   ],
   "source": [
    "salary_range = data['salary'].apply(lambda x:\n",
    "                                   x.replace('€', '')\n",
    "                                   .replace('par heure', '')\n",
    "                                   .replace('par an', '')\n",
    "                                   .replace('par mois', '')\n",
    "                                   .replace('par semaine', '')\n",
    "                                   .replace('par jour', '')\n",
    "                                   .replace('18,14', '')\n",
    "                                   .replace(' ','')).astype(str)\n",
    "salary_range.describe()"
   ]
  },
  {
   "cell_type": "code",
   "execution_count": 35,
   "metadata": {},
   "outputs": [],
   "source": [
    "data['min_sal'] = salary_range.apply(lambda x: x.split('-')[0])"
   ]
  },
  {
   "cell_type": "code",
   "execution_count": 36,
   "metadata": {},
   "outputs": [],
   "source": [
    "#bar graph\n",
    "\n",
    "data.sort_values('salary', inplace=True)\n",
    "\n",
    "fig = px.histogram(data, x='min_sal')\n",
    "#fig.show()"
   ]
  },
  {
   "cell_type": "code",
   "execution_count": 41,
   "metadata": {},
   "outputs": [],
   "source": [
    "data['max_sal'] = salary_range.apply(lambda x: x.split('-')[1] if len(x.split('-'))>1 else x)"
   ]
  },
  {
   "cell_type": "code",
   "execution_count": 42,
   "metadata": {},
   "outputs": [],
   "source": [
    "#bar graph\n",
    "\n",
    "data.sort_values('salary', inplace=True)\n",
    "\n",
    "fig = px.histogram(data, x='Max_sal')\n",
    "#fig.show()"
   ]
  },
  {
   "cell_type": "code",
   "execution_count": 44,
   "metadata": {},
   "outputs": [],
   "source": [
    "#df[df['min_sal'] + df['max_sal']]\n",
    "data['mean_sal'] = (pd.to_numeric(data['min_sal']) + pd.to_numeric(data['Max_sal']))/2"
   ]
  },
  {
   "cell_type": "code",
   "execution_count": 45,
   "metadata": {},
   "outputs": [
    {
     "data": {
      "text/plain": [
       "4751     8750.0\n",
       "4749    10000.0\n",
       "1396      950.0\n",
       "1687     1050.0\n",
       "4227      900.0\n",
       "Name: monthly_salary, dtype: float64"
      ]
     },
     "execution_count": 45,
     "metadata": {},
     "output_type": "execute_result"
    }
   ],
   "source": [
    "#Monthly salary\n",
    "m1 = data['salary'].str.contains('par heure')\n",
    "m2 = data['salary'].str.contains('par jour')\n",
    "m3 = data['salary'].str.contains('par semaine') #par mois is a default value\n",
    "m5 = data['salary'].str.contains('par an')\n",
    "\n",
    "data['monthly_salary'] = np.select([m1, m2, m3, m5],\n",
    "                                  [data['mean_sal']*152, #converting hourly to monthly\n",
    "                                   data['mean_sal']*22,   #converting daily to monthly                               \n",
    "                                   data['mean_sal']*4,    #weeklyly to monthly\n",
    "                                   data['mean_sal']/12],   #monthly to monthly\n",
    "                                   default=data['mean_sal']) #default value\n",
    "data['monthly_salary'].tail().round()"
   ]
  },
  {
   "cell_type": "code",
   "execution_count": 48,
   "metadata": {},
   "outputs": [
    {
     "data": {
      "text/plain": [
       "count       734.000000\n",
       "mean      49604.126022\n",
       "std       27284.574683\n",
       "min        1560.000000\n",
       "25%       36500.000000\n",
       "50%       45000.000000\n",
       "75%       57500.000000\n",
       "max      264000.000000\n",
       "Name: Annual_salary, dtype: float64"
      ]
     },
     "execution_count": 48,
     "metadata": {},
     "output_type": "execute_result"
    }
   ],
   "source": [
    "import numpy as np\n",
    "\n",
    "#Annual salary\n",
    "\n",
    "m1 = data['salary'].str.contains('par heure')\n",
    "m2 = data['salary'].str.contains('par jour')\n",
    "m3 = data['salary'].str.contains('par semaine')\n",
    "m4 = data['salary'].str.contains('par mois')\n",
    "\n",
    "data['Annual_salary'] = np.select([m1, m2, m3, m4],\n",
    "                                  [data['mean_sal']*1825, #converting hourly to annual\n",
    "                                   data['mean_sal']*260,   #converting daily to annual                               \n",
    "                                   data['mean_sal']*52,    #weeklyly to annual\n",
    "                                   data['mean_sal']*12],   #monthly to annual\n",
    "                                   default=data['mean_sal']) #default value\n",
    "data['Annual_salary'].describe()"
   ]
  },
  {
   "cell_type": "code",
   "execution_count": 49,
   "metadata": {},
   "outputs": [],
   "source": [
    "#bar graph\n",
    "\n",
    "data.sort_values('salary', inplace=True)\n",
    "\n",
    "fig = px.histogram(data, x='Annual_salary')\n",
    "#fig.show()"
   ]
  },
  {
   "cell_type": "code",
   "execution_count": 50,
   "metadata": {},
   "outputs": [],
   "source": [
    "import regex"
   ]
  },
  {
   "cell_type": "code",
   "execution_count": 51,
   "metadata": {},
   "outputs": [],
   "source": [
    "data['job_location'] = data['job_location'].apply(lambda x: x.split('.')[0])"
   ]
  },
  {
   "cell_type": "code",
   "execution_count": 52,
   "metadata": {},
   "outputs": [
    {
     "data": {
      "text/plain": [
       "0       nanterre (92)\n",
       "1098                 \n",
       "1103       91000 évry\n",
       "1172        nice (06)\n",
       "1171      angers (49)\n",
       "Name: job_location, dtype: object"
      ]
     },
     "execution_count": 52,
     "metadata": {},
     "output_type": "execute_result"
    }
   ],
   "source": [
    "data['job_location'] = data['job_location'].apply(lambda x: x\n",
    "                                    .replace('télétravail', '')\n",
    "                                    .replace('temporaire', '')\n",
    "                                    .replace('hybrid remote', '')\n",
    "                                    .replace('in', '')\n",
    "                                    .replace('+ lieu', '')\n",
    "                                    .replace('+lieu', '')\n",
    "                                    .split('.')[0])\n",
    "data['job_location'].head(5)"
   ]
  },
  {
   "cell_type": "code",
   "execution_count": 55,
   "metadata": {},
   "outputs": [],
   "source": [
    "location_data = data['job_location'].replace(to_replace=r'.\\d+.|[+]', value='', regex=True)"
   ]
  },
  {
   "cell_type": "code",
   "execution_count": 60,
   "metadata": {},
   "outputs": [
    {
     "data": {
      "text/plain": [
       "count       5179\n",
       "unique       610\n",
       "top       Paris \n",
       "freq        1538\n",
       "Name: Location, dtype: object"
      ]
     },
     "execution_count": 60,
     "metadata": {},
     "output_type": "execute_result"
    }
   ],
   "source": [
    "data['Location'] = location_data.apply(lambda x: x.split('-')[0]).str.capitalize()\n",
    "data['Location'].describe()"
   ]
  },
  {
   "cell_type": "markdown",
   "metadata": {},
   "source": [
    "Reference: \n",
    "\n",
    "1. <a href=\"https://www.geeksforgeeks.org/get-all-rows-in-a-pandas-dataframe-containing-given-substring/\">Get all rows in a Pandas DataFrame containing</a>\n",
    "\n",
    "2. <a href=\"https://nycdatascience.com/blog/student-works/job-salary-prediction-with-python/\">Job Salary Prediction with Python</a>\n",
    "\n",
    "3. <a href=\"https://pandas.pydata.org/docs/reference/api/pandas.Series.replace.html\">pandas.Series.replace</a>"
   ]
  },
  {
   "cell_type": "code",
   "execution_count": 61,
   "metadata": {},
   "outputs": [
    {
     "data": {
      "text/html": [
       "<div>\n",
       "<style scoped>\n",
       "    .dataframe tbody tr th:only-of-type {\n",
       "        vertical-align: middle;\n",
       "    }\n",
       "\n",
       "    .dataframe tbody tr th {\n",
       "        vertical-align: top;\n",
       "    }\n",
       "\n",
       "    .dataframe thead th {\n",
       "        text-align: right;\n",
       "    }\n",
       "</style>\n",
       "<table border=\"1\" class=\"dataframe\">\n",
       "  <thead>\n",
       "    <tr style=\"text-align: right;\">\n",
       "      <th></th>\n",
       "      <th>_id</th>\n",
       "      <th>job_title</th>\n",
       "      <th>company</th>\n",
       "      <th>job_location</th>\n",
       "      <th>salary</th>\n",
       "      <th>summary</th>\n",
       "      <th>post_date</th>\n",
       "      <th>per_hour</th>\n",
       "      <th>per_day</th>\n",
       "      <th>per_week</th>\n",
       "      <th>per_month</th>\n",
       "      <th>per_year</th>\n",
       "      <th>min_sal</th>\n",
       "      <th>max_sal</th>\n",
       "      <th>Max_sal</th>\n",
       "      <th>mean_sal</th>\n",
       "      <th>monthly_salary</th>\n",
       "      <th>Annual_salary</th>\n",
       "      <th>Location</th>\n",
       "    </tr>\n",
       "  </thead>\n",
       "  <tbody>\n",
       "    <tr>\n",
       "      <th>0</th>\n",
       "      <td>3d5487bc57a59ba4</td>\n",
       "      <td>nouveaudata scientist big data (f/h)</td>\n",
       "      <td>axa</td>\n",
       "      <td>nanterre (92)</td>\n",
       "      <td></td>\n",
       "      <td>gestion de projet data et data science. animat...</td>\n",
       "      <td>postedil y a 1 jour</td>\n",
       "      <td>0</td>\n",
       "      <td>0</td>\n",
       "      <td>0</td>\n",
       "      <td>0</td>\n",
       "      <td>0</td>\n",
       "      <td></td>\n",
       "      <td></td>\n",
       "      <td>NaN</td>\n",
       "      <td>NaN</td>\n",
       "      <td>NaN</td>\n",
       "      <td>NaN</td>\n",
       "      <td>Nanterre</td>\n",
       "    </tr>\n",
       "    <tr>\n",
       "      <th>1098</th>\n",
       "      <td>8fc0751b0de97506</td>\n",
       "      <td>solutions engineering manager</td>\n",
       "      <td>cloudera</td>\n",
       "      <td></td>\n",
       "      <td></td>\n",
       "      <td>present roadmap, vision, proposed architecture...</td>\n",
       "      <td>postedil y a 10 jours</td>\n",
       "      <td>0</td>\n",
       "      <td>0</td>\n",
       "      <td>0</td>\n",
       "      <td>0</td>\n",
       "      <td>0</td>\n",
       "      <td></td>\n",
       "      <td></td>\n",
       "      <td>NaN</td>\n",
       "      <td>NaN</td>\n",
       "      <td>NaN</td>\n",
       "      <td>NaN</td>\n",
       "      <td></td>\n",
       "    </tr>\n",
       "    <tr>\n",
       "      <th>1103</th>\n",
       "      <td>e594c23cf8a37774</td>\n",
       "      <td>business developer h/f</td>\n",
       "      <td>hierø</td>\n",
       "      <td>91000 évry</td>\n",
       "      <td></td>\n",
       "      <td>contribution à la recherche de nouveaux parten...</td>\n",
       "      <td>postedil y a 12 jours</td>\n",
       "      <td>0</td>\n",
       "      <td>0</td>\n",
       "      <td>0</td>\n",
       "      <td>0</td>\n",
       "      <td>0</td>\n",
       "      <td></td>\n",
       "      <td></td>\n",
       "      <td>NaN</td>\n",
       "      <td>NaN</td>\n",
       "      <td>NaN</td>\n",
       "      <td>NaN</td>\n",
       "      <td>Évry</td>\n",
       "    </tr>\n",
       "    <tr>\n",
       "      <th>1172</th>\n",
       "      <td>f437f4daa465984d</td>\n",
       "      <td>systems engineer</td>\n",
       "      <td>oticon</td>\n",
       "      <td>nice (06)</td>\n",
       "      <td></td>\n",
       "      <td>if you thrive with analyzing and structuring s...</td>\n",
       "      <td>postedil y a 30+ jours</td>\n",
       "      <td>0</td>\n",
       "      <td>0</td>\n",
       "      <td>0</td>\n",
       "      <td>0</td>\n",
       "      <td>0</td>\n",
       "      <td></td>\n",
       "      <td></td>\n",
       "      <td>NaN</td>\n",
       "      <td>NaN</td>\n",
       "      <td>NaN</td>\n",
       "      <td>NaN</td>\n",
       "      <td>Nice</td>\n",
       "    </tr>\n",
       "    <tr>\n",
       "      <th>1171</th>\n",
       "      <td>006b0f53d6963313</td>\n",
       "      <td>administrateur des ventes h/f</td>\n",
       "      <td>eolane</td>\n",
       "      <td>angers (49)</td>\n",
       "      <td></td>\n",
       "      <td>les 177 collaborateurs (opérateurs, technicien...</td>\n",
       "      <td>postedil y a 19 jours</td>\n",
       "      <td>0</td>\n",
       "      <td>0</td>\n",
       "      <td>0</td>\n",
       "      <td>0</td>\n",
       "      <td>0</td>\n",
       "      <td></td>\n",
       "      <td></td>\n",
       "      <td>NaN</td>\n",
       "      <td>NaN</td>\n",
       "      <td>NaN</td>\n",
       "      <td>NaN</td>\n",
       "      <td>Angers</td>\n",
       "    </tr>\n",
       "  </tbody>\n",
       "</table>\n",
       "</div>"
      ],
      "text/plain": [
       "                   _id                             job_title   company  \\\n",
       "0     3d5487bc57a59ba4  nouveaudata scientist big data (f/h)       axa   \n",
       "1098  8fc0751b0de97506         solutions engineering manager  cloudera   \n",
       "1103  e594c23cf8a37774                business developer h/f     hierø   \n",
       "1172  f437f4daa465984d                      systems engineer    oticon   \n",
       "1171  006b0f53d6963313         administrateur des ventes h/f    eolane   \n",
       "\n",
       "       job_location salary                                            summary  \\\n",
       "0     nanterre (92)         gestion de projet data et data science. animat...   \n",
       "1098                        present roadmap, vision, proposed architecture...   \n",
       "1103     91000 évry         contribution à la recherche de nouveaux parten...   \n",
       "1172      nice (06)         if you thrive with analyzing and structuring s...   \n",
       "1171    angers (49)         les 177 collaborateurs (opérateurs, technicien...   \n",
       "\n",
       "                   post_date  per_hour  per_day  per_week  per_month  \\\n",
       "0        postedil y a 1 jour         0        0         0          0   \n",
       "1098   postedil y a 10 jours         0        0         0          0   \n",
       "1103   postedil y a 12 jours         0        0         0          0   \n",
       "1172  postedil y a 30+ jours         0        0         0          0   \n",
       "1171   postedil y a 19 jours         0        0         0          0   \n",
       "\n",
       "      per_year min_sal max_sal  Max_sal  mean_sal  monthly_salary  \\\n",
       "0            0                      NaN       NaN             NaN   \n",
       "1098         0                      NaN       NaN             NaN   \n",
       "1103         0                      NaN       NaN             NaN   \n",
       "1172         0                      NaN       NaN             NaN   \n",
       "1171         0                      NaN       NaN             NaN   \n",
       "\n",
       "      Annual_salary   Location  \n",
       "0               NaN  Nanterre   \n",
       "1098            NaN             \n",
       "1103            NaN       Évry  \n",
       "1172            NaN      Nice   \n",
       "1171            NaN    Angers   "
      ]
     },
     "execution_count": 61,
     "metadata": {},
     "output_type": "execute_result"
    }
   ],
   "source": [
    "data.head()"
   ]
  },
  {
   "cell_type": "code",
   "execution_count": null,
   "metadata": {},
   "outputs": [],
   "source": []
  }
 ],
 "metadata": {
  "interpreter": {
   "hash": "916dbcbb3f70747c44a77c7bcd40155683ae19c65e1c03b4aa3499c5328201f1"
  },
  "kernelspec": {
   "display_name": "Python 3.8.10 64-bit",
   "language": "python",
   "name": "python3810jvsc74a57bd0916dbcbb3f70747c44a77c7bcd40155683ae19c65e1c03b4aa3499c5328201f1"
  },
  "language_info": {
   "codemirror_mode": {
    "name": "ipython",
    "version": 3
   },
   "file_extension": ".py",
   "mimetype": "text/x-python",
   "name": "python",
   "nbconvert_exporter": "python",
   "pygments_lexer": "ipython3",
   "version": "3.8.10"
  }
 },
 "nbformat": 4,
 "nbformat_minor": 2
}
