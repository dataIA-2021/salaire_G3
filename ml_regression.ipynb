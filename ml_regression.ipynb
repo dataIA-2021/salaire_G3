{
 "cells": [
  {
   "cell_type": "code",
   "execution_count": 53,
   "id": "f7f49f65",
   "metadata": {},
   "outputs": [],
   "source": [
    "import pandas  as pd #Data manipulation\n",
    "from pymongo import MongoClient\n",
    "import yaml\n",
    "import pickle\n",
    "import seaborn as sns\n",
    "import matplotlib.pyplot as plt\n",
    "import numpy as np\n",
    "\n",
    "# lib ML\n",
    "from sklearn.preprocessing import OneHotEncoder, RobustScaler\n",
    "from sklearn.base import BaseEstimator, TransformerMixin\n",
    "from sklearn.impute import SimpleImputer\n",
    "from sklearn.pipeline import Pipeline\n",
    "from sklearn.model_selection import train_test_split\n",
    "from sklearn.linear_model import LinearRegression\n",
    "from sklearn.ensemble import RandomForestRegressor\n",
    "from sklearn.neighbors import KNeighborsRegressor\n",
    "from sklearn.compose import ColumnTransformer\n",
    "from sklearn.preprocessing import OrdinalEncoder\n",
    "from sklearn.metrics import mean_squared_error\n",
    "from sklearn.metrics import mean_absolute_error"
   ]
  },
  {
   "cell_type": "markdown",
   "id": "4fbd6735",
   "metadata": {},
   "source": [
    "# Importation des données"
   ]
  },
  {
   "cell_type": "code",
   "execution_count": 2,
   "id": "bc82e806",
   "metadata": {},
   "outputs": [],
   "source": [
    "# Connection MongoDB\n",
    "with open('config.yaml','r') as f:\n",
    "    config = yaml.safe_load(f)"
   ]
  },
  {
   "cell_type": "code",
   "execution_count": 3,
   "id": "55ff6c3f",
   "metadata": {},
   "outputs": [],
   "source": [
    "mg = config['MONGODB_TEST'] # Changer ici pour TEST/PROD\n",
    "connexion = f\"mongodb://{mg['ip']}:{mg['port']}\"\n",
    "client = MongoClient(connexion)\n",
    "db = client[mg['client']]\n",
    "collec = db[mg['db']]"
   ]
  },
  {
   "cell_type": "code",
   "execution_count": 4,
   "id": "0a6cdcff",
   "metadata": {},
   "outputs": [],
   "source": [
    "df = pd.DataFrame(list(collec.find()))\n",
    "#df = pd.read_csv('results.csv', encoding = \"UTF-8\")"
   ]
  },
  {
   "cell_type": "code",
   "execution_count": 5,
   "id": "ae8b3b2a",
   "metadata": {},
   "outputs": [],
   "source": [
    "\"\"\"\n",
    "df = df[['job_clean','exp','clean_location','presence','remote','hybrid','annual_salary',\n",
    "         'python', 'java','azure','aws','sql','excel', 'mak','ssis','anglais','git', 'docker',\n",
    "         'agile','spark','contract']]\n",
    "\"\"\"\n",
    "df = df[['job_clean','exp','clean_location','annual_salary','contract']]"
   ]
  },
  {
   "cell_type": "code",
   "execution_count": 6,
   "id": "698c7e90",
   "metadata": {},
   "outputs": [
    {
     "data": {
      "text/html": [
       "<div>\n",
       "<style scoped>\n",
       "    .dataframe tbody tr th:only-of-type {\n",
       "        vertical-align: middle;\n",
       "    }\n",
       "\n",
       "    .dataframe tbody tr th {\n",
       "        vertical-align: top;\n",
       "    }\n",
       "\n",
       "    .dataframe thead th {\n",
       "        text-align: right;\n",
       "    }\n",
       "</style>\n",
       "<table border=\"1\" class=\"dataframe\">\n",
       "  <thead>\n",
       "    <tr style=\"text-align: right;\">\n",
       "      <th></th>\n",
       "      <th>job_clean</th>\n",
       "      <th>exp</th>\n",
       "      <th>clean_location</th>\n",
       "      <th>annual_salary</th>\n",
       "      <th>contract</th>\n",
       "    </tr>\n",
       "  </thead>\n",
       "  <tbody>\n",
       "    <tr>\n",
       "      <th>0</th>\n",
       "      <td>developpeur</td>\n",
       "      <td>1</td>\n",
       "      <td>clermont-ferrand</td>\n",
       "      <td>46000.0</td>\n",
       "      <td></td>\n",
       "    </tr>\n",
       "    <tr>\n",
       "      <th>1</th>\n",
       "      <td>developpeur</td>\n",
       "      <td>1</td>\n",
       "      <td>france</td>\n",
       "      <td>85000.0</td>\n",
       "      <td></td>\n",
       "    </tr>\n",
       "    <tr>\n",
       "      <th>2</th>\n",
       "      <td>developpeur</td>\n",
       "      <td>1</td>\n",
       "      <td>auvergne-rhone-alpes</td>\n",
       "      <td>100000.0</td>\n",
       "      <td></td>\n",
       "    </tr>\n",
       "    <tr>\n",
       "      <th>3</th>\n",
       "      <td>developpeur</td>\n",
       "      <td>1</td>\n",
       "      <td>paris</td>\n",
       "      <td>0.0</td>\n",
       "      <td></td>\n",
       "    </tr>\n",
       "    <tr>\n",
       "      <th>4</th>\n",
       "      <td>developpeur</td>\n",
       "      <td>1</td>\n",
       "      <td>molsheim</td>\n",
       "      <td>0.0</td>\n",
       "      <td></td>\n",
       "    </tr>\n",
       "  </tbody>\n",
       "</table>\n",
       "</div>"
      ],
      "text/plain": [
       "     job_clean  exp        clean_location  annual_salary contract\n",
       "0  developpeur    1      clermont-ferrand        46000.0         \n",
       "1  developpeur    1                france        85000.0         \n",
       "2  developpeur    1  auvergne-rhone-alpes       100000.0         \n",
       "3  developpeur    1                 paris            0.0         \n",
       "4  developpeur    1              molsheim            0.0         "
      ]
     },
     "execution_count": 6,
     "metadata": {},
     "output_type": "execute_result"
    }
   ],
   "source": [
    "df.head()"
   ]
  },
  {
   "cell_type": "code",
   "execution_count": 7,
   "id": "39c8ea9a",
   "metadata": {},
   "outputs": [
    {
     "data": {
      "text/plain": [
       "(1443, 5)"
      ]
     },
     "execution_count": 7,
     "metadata": {},
     "output_type": "execute_result"
    }
   ],
   "source": [
    "df.shape"
   ]
  },
  {
   "cell_type": "markdown",
   "id": "15939ff4",
   "metadata": {},
   "source": [
    "# Dataviz"
   ]
  },
  {
   "cell_type": "code",
   "execution_count": 8,
   "id": "ef1d6d6e",
   "metadata": {},
   "outputs": [
    {
     "data": {
      "text/plain": [
       "\"\\ndf.drop(\\n    ['java script',\\n     'Cobol',\\n     'cordova',\\n    'Bootstrap',\\n    'kibana',\\n    'db400',\\n    'nuxtjs',\\n    'rpgle',\\n    'webdesign',\\n    'windev',\\n    'apache hadoop',\\n    'Angular 12',\\n    'elastic search',\\n    'mean_salary',\\n    'min_salary',\\n    'monthly_salary']\\n,axis=1,inplace=True)\\n\""
      ]
     },
     "execution_count": 8,
     "metadata": {},
     "output_type": "execute_result"
    }
   ],
   "source": [
    "\"\"\"\n",
    "df.drop(\n",
    "    ['java script',\n",
    "     'Cobol',\n",
    "     'cordova',\n",
    "    'Bootstrap',\n",
    "    'kibana',\n",
    "    'db400',\n",
    "    'nuxtjs',\n",
    "    'rpgle',\n",
    "    'webdesign',\n",
    "    'windev',\n",
    "    'apache hadoop',\n",
    "    'Angular 12',\n",
    "    'elastic search',\n",
    "    'mean_salary',\n",
    "    'min_salary',\n",
    "    'monthly_salary']\n",
    ",axis=1,inplace=True)\n",
    "\"\"\""
   ]
  },
  {
   "cell_type": "code",
   "execution_count": 9,
   "id": "0fc3d373",
   "metadata": {},
   "outputs": [
    {
     "data": {
      "image/png": "[encoded data removed]",
      "text/plain": [
       "<Figure size 864x648 with 2 Axes>"
      ]
     },
     "metadata": {
      "needs_background": "light"
     },
     "output_type": "display_data"
    }
   ],
   "source": [
    "corrmat = df.corr()\n",
    "f, ax = plt.subplots(figsize=(12, 9))\n",
    "sns.heatmap(corrmat, vmax=.8, square=True);"
   ]
  },
  {
   "cell_type": "code",
   "execution_count": 10,
   "id": "1924aa11",
   "metadata": {},
   "outputs": [
    {
     "name": "stdout",
     "output_type": "stream",
     "text": [
      "Index(['job_clean', 'exp', 'clean_location', 'contract'], dtype='object')\n"
     ]
    },
    {
     "name": "stderr",
     "output_type": "stream",
     "text": [
      "/tmp/ipykernel_26473/2502461082.py:4: DeprecationWarning: `np.bool` is a deprecated alias for the builtin `bool`. To silence this warning, use `bool` by itself. Doing this will not modify any behavior and is safe. If you specifically wanted the numpy scalar type, use `np.bool_` here.\n",
      "Deprecated in NumPy 1.20; for more details and guidance: https://numpy.org/devdocs/release/1.20.0-notes.html#deprecations\n",
      "  upper_tri = cor_matrix.where(np.triu(np.ones(cor_matrix.shape),k=1).astype(np.bool))\n"
     ]
    }
   ],
   "source": [
    "#df.corr()[df.corr() > .6]\n",
    "cor_matrix = df.corr().abs()\n",
    "#print(cor_matrix)\n",
    "upper_tri = cor_matrix.where(np.triu(np.ones(cor_matrix.shape),k=1).astype(np.bool))\n",
    "to_drop = [column for column in upper_tri.columns if any(upper_tri[column] < 0.6)]\n",
    "df1 = df.drop(to_drop, axis=1)\n",
    "print(df1.columns)"
   ]
  },
  {
   "cell_type": "code",
   "execution_count": 11,
   "id": "7ca5ee05",
   "metadata": {},
   "outputs": [],
   "source": [
    "df2 = df.filter(['_id', 'job_title', 'job_clean', 'contract', 'exp', 'company',\n",
    "       'job_location', 'clean_location', 'salary', 'interval', 'summary',\n",
    "       'post_date', 'clean_date', 'google analytic', ' r '])"
   ]
  },
  {
   "cell_type": "code",
   "execution_count": 12,
   "id": "dc9e3bba",
   "metadata": {},
   "outputs": [
    {
     "data": {
      "text/plain": [
       "(1443, 4)"
      ]
     },
     "execution_count": 12,
     "metadata": {},
     "output_type": "execute_result"
    }
   ],
   "source": [
    "df2.shape"
   ]
  },
  {
   "cell_type": "code",
   "execution_count": 13,
   "id": "57f160ed",
   "metadata": {},
   "outputs": [
    {
     "data": {
      "image/png": "[encoded data removed]",
      "text/plain": [
       "<Figure size 864x648 with 2 Axes>"
      ]
     },
     "metadata": {
      "needs_background": "light"
     },
     "output_type": "display_data"
    }
   ],
   "source": [
    "corrmat = df2.corr()\n",
    "f, ax = plt.subplots(figsize=(12, 9))\n",
    "sns.heatmap(corrmat, vmax=.8, square=True);"
   ]
  },
  {
   "cell_type": "markdown",
   "id": "45475c1a",
   "metadata": {},
   "source": [
    "# Preprocessing"
   ]
  },
  {
   "cell_type": "code",
   "execution_count": 14,
   "id": "571abc72",
   "metadata": {},
   "outputs": [
    {
     "name": "stderr",
     "output_type": "stream",
     "text": [
      "/tmp/ipykernel_26473/1082164631.py:4: SettingWithCopyWarning: \n",
      "A value is trying to be set on a copy of a slice from a DataFrame.\n",
      "Try using .loc[row_indexer,col_indexer] = value instead\n",
      "\n",
      "See the caveats in the documentation: https://pandas.pydata.org/pandas-docs/stable/user_guide/indexing.html#returning-a-view-versus-a-copy\n",
      "  df[df['annual_salary'] < 20000]['contract'] = 'stage'\n"
     ]
    }
   ],
   "source": [
    "# Imputation\n",
    "#df['contract'] = df['annual_salary'] < 20000 = 'stage'\n",
    "\n",
    "df[df['annual_salary'] < 20000]['contract'] = 'stage'\n",
    "#df['contract'][df['annual_salary'] >= 20000] = 'cdi'"
   ]
  },
  {
   "cell_type": "code",
   "execution_count": 15,
   "id": "e18eab86",
   "metadata": {},
   "outputs": [],
   "source": [
    "df['contract'][df['annual_salary'] < 20000] = 'stage'"
   ]
  },
  {
   "cell_type": "code",
   "execution_count": 16,
   "id": "495fc2ce",
   "metadata": {},
   "outputs": [
    {
     "data": {
      "text/plain": [
       "0       False\n",
       "1       False\n",
       "2       False\n",
       "3        True\n",
       "4        True\n",
       "        ...  \n",
       "1438    False\n",
       "1439     True\n",
       "1440     True\n",
       "1441     True\n",
       "1442     True\n",
       "Name: annual_salary, Length: 1443, dtype: bool"
      ]
     },
     "execution_count": 16,
     "metadata": {},
     "output_type": "execute_result"
    }
   ],
   "source": [
    "df['annual_salary'] < 20000"
   ]
  },
  {
   "cell_type": "code",
   "execution_count": 17,
   "id": "833e4e4b",
   "metadata": {},
   "outputs": [
    {
     "data": {
      "text/plain": [
       "0         cdi\n",
       "1         cdi\n",
       "2         cdi\n",
       "3       stage\n",
       "4       stage\n",
       "        ...  \n",
       "1438      cdi\n",
       "1439    stage\n",
       "1440    stage\n",
       "1441    stage\n",
       "1442    stage\n",
       "Name: contract, Length: 1443, dtype: object"
      ]
     },
     "execution_count": 17,
     "metadata": {},
     "output_type": "execute_result"
    }
   ],
   "source": [
    "df['contract'] = np.where(df['annual_salary'] < 20000,'stage','cdi')\n",
    "df['contract']"
   ]
  },
  {
   "cell_type": "code",
   "execution_count": 18,
   "id": "cbe2f229",
   "metadata": {},
   "outputs": [],
   "source": [
    "#df.drop(['_id','summary,'], axis=1, inplace=True)\n",
    "#df = df.filter(['job_clean','clean_location','annual_salary'])"
   ]
  },
  {
   "cell_type": "code",
   "execution_count": 19,
   "id": "9b335656",
   "metadata": {},
   "outputs": [
    {
     "data": {
      "text/html": [
       "<div>\n",
       "<style scoped>\n",
       "    .dataframe tbody tr th:only-of-type {\n",
       "        vertical-align: middle;\n",
       "    }\n",
       "\n",
       "    .dataframe tbody tr th {\n",
       "        vertical-align: top;\n",
       "    }\n",
       "\n",
       "    .dataframe thead th {\n",
       "        text-align: right;\n",
       "    }\n",
       "</style>\n",
       "<table border=\"1\" class=\"dataframe\">\n",
       "  <thead>\n",
       "    <tr style=\"text-align: right;\">\n",
       "      <th></th>\n",
       "      <th>job_clean</th>\n",
       "      <th>exp</th>\n",
       "      <th>clean_location</th>\n",
       "      <th>annual_salary</th>\n",
       "      <th>contract</th>\n",
       "    </tr>\n",
       "  </thead>\n",
       "  <tbody>\n",
       "    <tr>\n",
       "      <th>0</th>\n",
       "      <td>developpeur</td>\n",
       "      <td>1</td>\n",
       "      <td>clermont-ferrand</td>\n",
       "      <td>46000.0</td>\n",
       "      <td>cdi</td>\n",
       "    </tr>\n",
       "    <tr>\n",
       "      <th>1</th>\n",
       "      <td>developpeur</td>\n",
       "      <td>1</td>\n",
       "      <td>france</td>\n",
       "      <td>85000.0</td>\n",
       "      <td>cdi</td>\n",
       "    </tr>\n",
       "    <tr>\n",
       "      <th>2</th>\n",
       "      <td>developpeur</td>\n",
       "      <td>1</td>\n",
       "      <td>auvergne-rhone-alpes</td>\n",
       "      <td>100000.0</td>\n",
       "      <td>cdi</td>\n",
       "    </tr>\n",
       "    <tr>\n",
       "      <th>3</th>\n",
       "      <td>developpeur</td>\n",
       "      <td>1</td>\n",
       "      <td>paris</td>\n",
       "      <td>0.0</td>\n",
       "      <td>stage</td>\n",
       "    </tr>\n",
       "    <tr>\n",
       "      <th>4</th>\n",
       "      <td>developpeur</td>\n",
       "      <td>1</td>\n",
       "      <td>molsheim</td>\n",
       "      <td>0.0</td>\n",
       "      <td>stage</td>\n",
       "    </tr>\n",
       "  </tbody>\n",
       "</table>\n",
       "</div>"
      ],
      "text/plain": [
       "     job_clean  exp        clean_location  annual_salary contract\n",
       "0  developpeur    1      clermont-ferrand        46000.0      cdi\n",
       "1  developpeur    1                france        85000.0      cdi\n",
       "2  developpeur    1  auvergne-rhone-alpes       100000.0      cdi\n",
       "3  developpeur    1                 paris            0.0    stage\n",
       "4  developpeur    1              molsheim            0.0    stage"
      ]
     },
     "execution_count": 19,
     "metadata": {},
     "output_type": "execute_result"
    }
   ],
   "source": [
    "df.head()"
   ]
  },
  {
   "cell_type": "code",
   "execution_count": 20,
   "id": "de476480",
   "metadata": {},
   "outputs": [],
   "source": [
    "df = df[df['annual_salary'] != 0]\n",
    "#df[['bought_apples','bought_pears']].sum(axis=1) > 0"
   ]
  },
  {
   "cell_type": "code",
   "execution_count": 21,
   "id": "f518c9b9",
   "metadata": {},
   "outputs": [
    {
     "data": {
      "text/html": [
       "<div>\n",
       "<style scoped>\n",
       "    .dataframe tbody tr th:only-of-type {\n",
       "        vertical-align: middle;\n",
       "    }\n",
       "\n",
       "    .dataframe tbody tr th {\n",
       "        vertical-align: top;\n",
       "    }\n",
       "\n",
       "    .dataframe thead th {\n",
       "        text-align: right;\n",
       "    }\n",
       "</style>\n",
       "<table border=\"1\" class=\"dataframe\">\n",
       "  <thead>\n",
       "    <tr style=\"text-align: right;\">\n",
       "      <th></th>\n",
       "      <th>job_clean</th>\n",
       "      <th>exp</th>\n",
       "      <th>clean_location</th>\n",
       "      <th>annual_salary</th>\n",
       "      <th>contract</th>\n",
       "    </tr>\n",
       "  </thead>\n",
       "  <tbody>\n",
       "    <tr>\n",
       "      <th>0</th>\n",
       "      <td>developpeur</td>\n",
       "      <td>1</td>\n",
       "      <td>clermont-ferrand</td>\n",
       "      <td>46000.0</td>\n",
       "      <td>cdi</td>\n",
       "    </tr>\n",
       "    <tr>\n",
       "      <th>1</th>\n",
       "      <td>developpeur</td>\n",
       "      <td>1</td>\n",
       "      <td>france</td>\n",
       "      <td>85000.0</td>\n",
       "      <td>cdi</td>\n",
       "    </tr>\n",
       "    <tr>\n",
       "      <th>2</th>\n",
       "      <td>developpeur</td>\n",
       "      <td>1</td>\n",
       "      <td>auvergne-rhone-alpes</td>\n",
       "      <td>100000.0</td>\n",
       "      <td>cdi</td>\n",
       "    </tr>\n",
       "    <tr>\n",
       "      <th>7</th>\n",
       "      <td>developpeur</td>\n",
       "      <td>1</td>\n",
       "      <td>joue-les-tours</td>\n",
       "      <td>6000.0</td>\n",
       "      <td>stage</td>\n",
       "    </tr>\n",
       "    <tr>\n",
       "      <th>13</th>\n",
       "      <td>developpeur</td>\n",
       "      <td>1</td>\n",
       "      <td>antony</td>\n",
       "      <td>13200.0</td>\n",
       "      <td>stage</td>\n",
       "    </tr>\n",
       "    <tr>\n",
       "      <th>...</th>\n",
       "      <td>...</td>\n",
       "      <td>...</td>\n",
       "      <td>...</td>\n",
       "      <td>...</td>\n",
       "      <td>...</td>\n",
       "    </tr>\n",
       "    <tr>\n",
       "      <th>1404</th>\n",
       "      <td>business intelligence</td>\n",
       "      <td>1</td>\n",
       "      <td>toulouse</td>\n",
       "      <td>40000.0</td>\n",
       "      <td>cdi</td>\n",
       "    </tr>\n",
       "    <tr>\n",
       "      <th>1416</th>\n",
       "      <td>business intelligence</td>\n",
       "      <td>1</td>\n",
       "      <td>paris</td>\n",
       "      <td>8400.0</td>\n",
       "      <td>stage</td>\n",
       "    </tr>\n",
       "    <tr>\n",
       "      <th>1428</th>\n",
       "      <td>data analyst</td>\n",
       "      <td>1</td>\n",
       "      <td>paris</td>\n",
       "      <td>10956.0</td>\n",
       "      <td>stage</td>\n",
       "    </tr>\n",
       "    <tr>\n",
       "      <th>1435</th>\n",
       "      <td>business intelligence</td>\n",
       "      <td>1</td>\n",
       "      <td>toulouse</td>\n",
       "      <td>40000.0</td>\n",
       "      <td>cdi</td>\n",
       "    </tr>\n",
       "    <tr>\n",
       "      <th>1438</th>\n",
       "      <td>business intelligence</td>\n",
       "      <td>1</td>\n",
       "      <td>paris</td>\n",
       "      <td>50000.0</td>\n",
       "      <td>cdi</td>\n",
       "    </tr>\n",
       "  </tbody>\n",
       "</table>\n",
       "<p>249 rows × 5 columns</p>\n",
       "</div>"
      ],
      "text/plain": [
       "                  job_clean  exp        clean_location  annual_salary contract\n",
       "0               developpeur    1      clermont-ferrand        46000.0      cdi\n",
       "1               developpeur    1                france        85000.0      cdi\n",
       "2               developpeur    1  auvergne-rhone-alpes       100000.0      cdi\n",
       "7               developpeur    1        joue-les-tours         6000.0    stage\n",
       "13              developpeur    1                antony        13200.0    stage\n",
       "...                     ...  ...                   ...            ...      ...\n",
       "1404  business intelligence    1              toulouse        40000.0      cdi\n",
       "1416  business intelligence    1                 paris         8400.0    stage\n",
       "1428           data analyst    1                 paris        10956.0    stage\n",
       "1435  business intelligence    1              toulouse        40000.0      cdi\n",
       "1438  business intelligence    1                 paris        50000.0      cdi\n",
       "\n",
       "[249 rows x 5 columns]"
      ]
     },
     "execution_count": 21,
     "metadata": {},
     "output_type": "execute_result"
    }
   ],
   "source": [
    "df"
   ]
  },
  {
   "cell_type": "code",
   "execution_count": 22,
   "id": "3a1bf804",
   "metadata": {},
   "outputs": [
    {
     "data": {
      "text/plain": [
       "job_clean         0\n",
       "exp               0\n",
       "clean_location    0\n",
       "annual_salary     0\n",
       "contract          0\n",
       "dtype: int64"
      ]
     },
     "execution_count": 22,
     "metadata": {},
     "output_type": "execute_result"
    }
   ],
   "source": [
    "df.isnull().sum(axis = 0)"
   ]
  },
  {
   "cell_type": "markdown",
   "id": "18393941",
   "metadata": {},
   "source": [
    "Colonne catégorie"
   ]
  },
  {
   "cell_type": "code",
   "execution_count": 23,
   "id": "16696794",
   "metadata": {},
   "outputs": [],
   "source": [
    "#categorical_columns = ['clean_location','job_clean']"
   ]
  },
  {
   "cell_type": "code",
   "execution_count": 24,
   "id": "13f359e1",
   "metadata": {},
   "outputs": [],
   "source": [
    "categorical_columns = df.select_dtypes(include=['object']).columns"
   ]
  },
  {
   "cell_type": "code",
   "execution_count": 25,
   "id": "84eb93b1",
   "metadata": {},
   "outputs": [
    {
     "data": {
      "text/plain": [
       "Index(['job_clean', 'clean_location', 'contract'], dtype='object')"
      ]
     },
     "execution_count": 25,
     "metadata": {},
     "output_type": "execute_result"
    }
   ],
   "source": [
    "categorical_columns"
   ]
  },
  {
   "cell_type": "markdown",
   "id": "54007eeb",
   "metadata": {},
   "source": [
    "Features preprocessing"
   ]
  },
  {
   "cell_type": "code",
   "execution_count": 26,
   "id": "d4b4d450",
   "metadata": {},
   "outputs": [
    {
     "data": {
      "text/html": [
       "<div>\n",
       "<style scoped>\n",
       "    .dataframe tbody tr th:only-of-type {\n",
       "        vertical-align: middle;\n",
       "    }\n",
       "\n",
       "    .dataframe tbody tr th {\n",
       "        vertical-align: top;\n",
       "    }\n",
       "\n",
       "    .dataframe thead th {\n",
       "        text-align: right;\n",
       "    }\n",
       "</style>\n",
       "<table border=\"1\" class=\"dataframe\">\n",
       "  <thead>\n",
       "    <tr style=\"text-align: right;\">\n",
       "      <th></th>\n",
       "      <th>job_clean</th>\n",
       "      <th>exp</th>\n",
       "      <th>clean_location</th>\n",
       "      <th>contract</th>\n",
       "    </tr>\n",
       "  </thead>\n",
       "  <tbody>\n",
       "    <tr>\n",
       "      <th>0</th>\n",
       "      <td>developpeur</td>\n",
       "      <td>1</td>\n",
       "      <td>clermont-ferrand</td>\n",
       "      <td>cdi</td>\n",
       "    </tr>\n",
       "    <tr>\n",
       "      <th>1</th>\n",
       "      <td>developpeur</td>\n",
       "      <td>1</td>\n",
       "      <td>france</td>\n",
       "      <td>cdi</td>\n",
       "    </tr>\n",
       "    <tr>\n",
       "      <th>2</th>\n",
       "      <td>developpeur</td>\n",
       "      <td>1</td>\n",
       "      <td>auvergne-rhone-alpes</td>\n",
       "      <td>cdi</td>\n",
       "    </tr>\n",
       "    <tr>\n",
       "      <th>7</th>\n",
       "      <td>developpeur</td>\n",
       "      <td>1</td>\n",
       "      <td>joue-les-tours</td>\n",
       "      <td>stage</td>\n",
       "    </tr>\n",
       "    <tr>\n",
       "      <th>13</th>\n",
       "      <td>developpeur</td>\n",
       "      <td>1</td>\n",
       "      <td>antony</td>\n",
       "      <td>stage</td>\n",
       "    </tr>\n",
       "  </tbody>\n",
       "</table>\n",
       "</div>"
      ],
      "text/plain": [
       "      job_clean  exp        clean_location contract\n",
       "0   developpeur    1      clermont-ferrand      cdi\n",
       "1   developpeur    1                france      cdi\n",
       "2   developpeur    1  auvergne-rhone-alpes      cdi\n",
       "7   developpeur    1        joue-les-tours    stage\n",
       "13  developpeur    1                antony    stage"
      ]
     },
     "execution_count": 26,
     "metadata": {},
     "output_type": "execute_result"
    }
   ],
   "source": [
    "X = df.drop(columns=['annual_salary'])\n",
    "X.head()"
   ]
  },
  {
   "cell_type": "code",
   "execution_count": 27,
   "id": "5b171f7b",
   "metadata": {},
   "outputs": [
    {
     "data": {
      "text/plain": [
       "0      46000.0\n",
       "1      85000.0\n",
       "2     100000.0\n",
       "7       6000.0\n",
       "13     13200.0\n",
       "Name: annual_salary, dtype: float64"
      ]
     },
     "execution_count": 27,
     "metadata": {},
     "output_type": "execute_result"
    }
   ],
   "source": [
    "y = df['annual_salary']\n",
    "y.head()"
   ]
  },
  {
   "cell_type": "code",
   "execution_count": 28,
   "id": "1446ac1b",
   "metadata": {},
   "outputs": [
    {
     "data": {
      "text/plain": [
       "\"\\nclass transformToPredict(BaseEstimator,TransformerMixin):\\n    def __init__(self):\\n        return None\\n    \\n    def fit(self, X, y =None):\\n        return self\\n    \\n    def transform(self, X, y =None):\\n        \\n        if not isinstance(X, pd.DataFrame):\\n            # Creation d'un dataframe\\n            dic = {'clean_location': X}\\n            df = pd.DataFrame(dic, index=[0]) \\n        else:\\n            df = X.copy()\\n   \\n        return df\\n\""
      ]
     },
     "execution_count": 28,
     "metadata": {},
     "output_type": "execute_result"
    }
   ],
   "source": [
    "\"\"\"\n",
    "class transformToPredict(BaseEstimator,TransformerMixin):\n",
    "    def __init__(self):\n",
    "        return None\n",
    "    \n",
    "    def fit(self, X, y =None):\n",
    "        return self\n",
    "    \n",
    "    def transform(self, X, y =None):\n",
    "        \n",
    "        if not isinstance(X, pd.DataFrame):\n",
    "            # Creation d'un dataframe\n",
    "            dic = {'clean_location': X}\n",
    "            df = pd.DataFrame(dic, index=[0]) \n",
    "        else:\n",
    "            df = X.copy()\n",
    "   \n",
    "        return df\n",
    "\"\"\""
   ]
  },
  {
   "cell_type": "code",
   "execution_count": 29,
   "id": "76a0c823",
   "metadata": {},
   "outputs": [],
   "source": [
    "# 1er pipeline pour traitement du df\n",
    "#transfo_to_df = Pipeline(steps=[\n",
    "#    ('base', transformToPredict)\n",
    "#])"
   ]
  },
  {
   "cell_type": "code",
   "execution_count": 30,
   "id": "4ed10d66",
   "metadata": {},
   "outputs": [],
   "source": [
    "transfo_cat = Pipeline(steps=[\n",
    "    #('imputation', SimpleImputer(strategy='most_frequent')), Donnees manquantes ? a voir\n",
    "    ('onehot', OneHotEncoder(handle_unknown='ignore', sparse = False))\n",
    "])"
   ]
  },
  {
   "cell_type": "code",
   "execution_count": 31,
   "id": "ddfe52cd",
   "metadata": {},
   "outputs": [],
   "source": [
    "#transfo_df = Pipeline(steps=[\n",
    "#    ('scaling', MinMaxScaler())\n",
    "#])"
   ]
  },
  {
   "cell_type": "code",
   "execution_count": 32,
   "id": "cf6e81a4",
   "metadata": {},
   "outputs": [],
   "source": [
    "preparation = ColumnTransformer(\n",
    "    transformers=[\n",
    "        ('data_cat', transfo_cat , categorical_columns)\n",
    "        #('data_df', transfo_df , all_columns)\n",
    "    ])"
   ]
  },
  {
   "cell_type": "markdown",
   "id": "3a1dcd21",
   "metadata": {},
   "source": [
    "# Model"
   ]
  },
  {
   "cell_type": "code",
   "execution_count": 66,
   "id": "429a41a9",
   "metadata": {},
   "outputs": [
    {
     "data": {
      "text/plain": [
       "Pipeline(steps=[('preparation',\n",
       "                 ColumnTransformer(transformers=[('data_cat',\n",
       "                                                  Pipeline(steps=[('onehot',\n",
       "                                                                   OneHotEncoder(handle_unknown='ignore',\n",
       "                                                                                 sparse=False))]),\n",
       "                                                  Index(['job_clean', 'clean_location', 'contract'], dtype='object'))])),\n",
       "                ('model', RandomForestRegressor(bootstrap=False))])"
      ]
     },
     "execution_count": 66,
     "metadata": {},
     "output_type": "execute_result"
    }
   ],
   "source": [
    "#model = LinearRegression()\n",
    "model = RandomForestRegressor(bootstrap=False)\n",
    "pipe_model = Pipeline(steps=[\n",
    "    #('base',transformToPredict()),\n",
    "    ('preparation', preparation),\n",
    "    ('model',model)])\n",
    "pipe_model"
   ]
  },
  {
   "cell_type": "markdown",
   "id": "c960b8dd",
   "metadata": {},
   "source": [
    "# Traint test split"
   ]
  },
  {
   "cell_type": "code",
   "execution_count": 67,
   "id": "0a7518e6",
   "metadata": {},
   "outputs": [],
   "source": [
    "X_train, X_test, y_train, y_test = train_test_split(X, y, test_size=0.25, random_state=42) #stratify=y"
   ]
  },
  {
   "cell_type": "code",
   "execution_count": 68,
   "id": "2fdf95e6",
   "metadata": {},
   "outputs": [
    {
     "data": {
      "text/plain": [
       "Pipeline(steps=[('preparation',\n",
       "                 ColumnTransformer(transformers=[('data_cat',\n",
       "                                                  Pipeline(steps=[('onehot',\n",
       "                                                                   OneHotEncoder(handle_unknown='ignore',\n",
       "                                                                                 sparse=False))]),\n",
       "                                                  Index(['job_clean', 'clean_location', 'contract'], dtype='object'))])),\n",
       "                ('model', RandomForestRegressor(bootstrap=False))])"
      ]
     },
     "execution_count": 68,
     "metadata": {},
     "output_type": "execute_result"
    }
   ],
   "source": [
    "pipe_model.fit(X_train,y_train)"
   ]
  },
  {
   "cell_type": "markdown",
   "id": "a288e3d2",
   "metadata": {},
   "source": [
    "# Model evaluation"
   ]
  },
  {
   "cell_type": "code",
   "execution_count": 69,
   "id": "26512b7d",
   "metadata": {},
   "outputs": [
    {
     "data": {
      "text/plain": [
       "0.6935093751512029"
      ]
     },
     "execution_count": 69,
     "metadata": {},
     "output_type": "execute_result"
    }
   ],
   "source": [
    "pipe_model.score(X_train, y_train)"
   ]
  },
  {
   "cell_type": "markdown",
   "id": "0e33a9d4",
   "metadata": {},
   "source": [
    "# Metriques"
   ]
  },
  {
   "cell_type": "code",
   "execution_count": 50,
   "id": "027556bf",
   "metadata": {},
   "outputs": [
    {
     "name": "stdout",
     "output_type": "stream",
     "text": [
      "RMSE : 14126.41\n"
     ]
    }
   ],
   "source": [
    "#MSE\n",
    "prediction = pipe_model.predict(X_test)\n",
    "mean_squared_error(y_test, prediction)\n",
    "\n",
    "print(\"RMSE :\", round(np.sqrt(mean_squared_error(y_test, prediction)), 2))"
   ]
  },
  {
   "cell_type": "code",
   "execution_count": 52,
   "id": "74e6eab9",
   "metadata": {},
   "outputs": [
    {
     "name": "stdout",
     "output_type": "stream",
     "text": [
      "10721.360332649803\n"
     ]
    }
   ],
   "source": [
    "mae = mean_absolute_error(y_test, prediction)\n",
    "print(mae)"
   ]
  },
  {
   "cell_type": "code",
   "execution_count": 39,
   "id": "4788d06f",
   "metadata": {},
   "outputs": [],
   "source": [
    "#pipe_model.predict('Paris')"
   ]
  },
  {
   "cell_type": "code",
   "execution_count": 40,
   "id": "7b80f746",
   "metadata": {},
   "outputs": [],
   "source": [
    "#dic = {'clean_location': 'Paris'}\n",
    "#df_predict = pd.DataFrame(dic, index=[0])\n",
    "#pipe_model.predict(df_predict)"
   ]
  },
  {
   "cell_type": "markdown",
   "id": "3042ba9b",
   "metadata": {},
   "source": [
    "Enregistrement du modele"
   ]
  },
  {
   "cell_type": "code",
   "execution_count": 41,
   "id": "7ebf17f4",
   "metadata": {},
   "outputs": [],
   "source": [
    "#pickle.dump(pipe_model,open('model.pkl','wb'))"
   ]
  }
 ],
 "metadata": {
  "kernelspec": {
   "display_name": "Python 3 (ipykernel)",
   "language": "python",
   "name": "python3"
  },
  "language_info": {
   "codemirror_mode": {
    "name": "ipython",
    "version": 3
   },
   "file_extension": ".py",
   "mimetype": "text/x-python",
   "name": "python",
   "nbconvert_exporter": "python",
   "pygments_lexer": "ipython3",
   "version": "3.9.7"
  }
 },
 "nbformat": 4,
 "nbformat_minor": 5
}
