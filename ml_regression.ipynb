{
 "cells": [
  {
   "cell_type": "code",
   "execution_count": 1,
   "id": "f7f49f65",
   "metadata": {},
   "outputs": [],
   "source": [
    "import pandas  as pd #Data manipulation\n",
    "from pymongo import MongoClient\n",
    "import yaml\n",
    "\n",
    "# lib ML\n",
    "from sklearn.preprocessing import OneHotEncoder, RobustScaler\n",
    "from sklearn.base import BaseEstimator, TransformerMixin\n",
    "from sklearn.impute import SimpleImputer\n",
    "from sklearn.pipeline import Pipeline\n",
    "from sklearn.model_selection import train_test_split\n",
    "from sklearn.linear_model import LinearRegression\n",
    "from sklearn.compose import ColumnTransformer\n",
    "from sklearn.preprocessing import OrdinalEncoder"
   ]
  },
  {
   "cell_type": "markdown",
   "id": "4fbd6735",
   "metadata": {},
   "source": [
    "# Importation des données"
   ]
  },
  {
   "cell_type": "code",
   "execution_count": 2,
   "id": "bc82e806",
   "metadata": {},
   "outputs": [],
   "source": [
    "# Connection MongoDB\n",
    "with open('config.yaml','r') as f:\n",
    "    config = yaml.safe_load(f)"
   ]
  },
  {
   "cell_type": "code",
   "execution_count": 3,
   "id": "55ff6c3f",
   "metadata": {},
   "outputs": [],
   "source": [
    "mg = config['MONGODB_TEST'] # Changer ici pour TEST/PROD\n",
    "connexion = f\"mongodb://{mg['ip']}:{mg['port']}\"\n",
    "client = MongoClient(connexion)\n",
    "db = client[mg['client']]\n",
    "collec = db[mg['db']]"
   ]
  },
  {
   "cell_type": "code",
   "execution_count": 4,
   "id": "0a6cdcff",
   "metadata": {},
   "outputs": [],
   "source": [
    "df = pd.DataFrame(list(collec.find()))\n",
    "#df = pd.read_csv('results.csv', encoding = \"UTF-8\")"
   ]
  },
  {
   "cell_type": "code",
   "execution_count": 5,
   "id": "698c7e90",
   "metadata": {},
   "outputs": [
    {
     "data": {
      "text/html": [
       "<div>\n",
       "<style scoped>\n",
       "    .dataframe tbody tr th:only-of-type {\n",
       "        vertical-align: middle;\n",
       "    }\n",
       "\n",
       "    .dataframe tbody tr th {\n",
       "        vertical-align: top;\n",
       "    }\n",
       "\n",
       "    .dataframe thead th {\n",
       "        text-align: right;\n",
       "    }\n",
       "</style>\n",
       "<table border=\"1\" class=\"dataframe\">\n",
       "  <thead>\n",
       "    <tr style=\"text-align: right;\">\n",
       "      <th></th>\n",
       "      <th>_id</th>\n",
       "      <th>job_title</th>\n",
       "      <th>company</th>\n",
       "      <th>job_location</th>\n",
       "      <th>clean_location</th>\n",
       "      <th>salary</th>\n",
       "      <th>per_hour</th>\n",
       "      <th>per_day</th>\n",
       "      <th>per_week</th>\n",
       "      <th>per_month</th>\n",
       "      <th>per_year</th>\n",
       "      <th>min_salary</th>\n",
       "      <th>max_salary</th>\n",
       "      <th>mean_salary</th>\n",
       "      <th>monthly_salary</th>\n",
       "      <th>annual_salary</th>\n",
       "      <th>summary</th>\n",
       "      <th>post_date</th>\n",
       "    </tr>\n",
       "  </thead>\n",
       "  <tbody>\n",
       "    <tr>\n",
       "      <th>0</th>\n",
       "      <td>3150bb96f5dc39e7</td>\n",
       "      <td>Software Engineer - AR / VR (London)</td>\n",
       "      <td>Oculus</td>\n",
       "      <td>Télétravail</td>\n",
       "      <td></td>\n",
       "      <td></td>\n",
       "      <td>0</td>\n",
       "      <td>0</td>\n",
       "      <td>0</td>\n",
       "      <td>0</td>\n",
       "      <td>0</td>\n",
       "      <td>0</td>\n",
       "      <td>0</td>\n",
       "      <td>0.0</td>\n",
       "      <td>0</td>\n",
       "      <td>0</td>\n",
       "      <td>We are looking for those with the ability to b...</td>\n",
       "      <td>Postedil y a 30+ jours</td>\n",
       "    </tr>\n",
       "    <tr>\n",
       "      <th>1</th>\n",
       "      <td>9528bcde2fb94a69</td>\n",
       "      <td>#AGGP – Graduate On Board Computer Simulation ...</td>\n",
       "      <td>Airbus</td>\n",
       "      <td>31300 Toulouse</td>\n",
       "      <td></td>\n",
       "      <td></td>\n",
       "      <td>0</td>\n",
       "      <td>0</td>\n",
       "      <td>0</td>\n",
       "      <td>0</td>\n",
       "      <td>0</td>\n",
       "      <td>0</td>\n",
       "      <td>0</td>\n",
       "      <td>0.0</td>\n",
       "      <td>0</td>\n",
       "      <td>0</td>\n",
       "      <td>You will be on a development pathway to prepar...</td>\n",
       "      <td>Postedil y a 2 jours</td>\n",
       "    </tr>\n",
       "    <tr>\n",
       "      <th>2</th>\n",
       "      <td>546e7b016e55a5ad</td>\n",
       "      <td>Product Manager</td>\n",
       "      <td>Facebook App</td>\n",
       "      <td>Télétravail</td>\n",
       "      <td></td>\n",
       "      <td></td>\n",
       "      <td>0</td>\n",
       "      <td>0</td>\n",
       "      <td>0</td>\n",
       "      <td>0</td>\n",
       "      <td>0</td>\n",
       "      <td>0</td>\n",
       "      <td>0</td>\n",
       "      <td>0.0</td>\n",
       "      <td>0</td>\n",
       "      <td>0</td>\n",
       "      <td>The Platform and Developer tools PM's are resp...</td>\n",
       "      <td>Postedil y a 5 jours</td>\n",
       "    </tr>\n",
       "    <tr>\n",
       "      <th>3</th>\n",
       "      <td>0c783b1550c11546</td>\n",
       "      <td>Business Developer (H/F)</td>\n",
       "      <td>MICHELIN</td>\n",
       "      <td>Clermont-Ferrand (63)</td>\n",
       "      <td>Clermont</td>\n",
       "      <td>37 000 € - 55 000 € par an</td>\n",
       "      <td>0</td>\n",
       "      <td>0</td>\n",
       "      <td>0</td>\n",
       "      <td>0</td>\n",
       "      <td>1</td>\n",
       "      <td>37000</td>\n",
       "      <td>55000</td>\n",
       "      <td>46000.0</td>\n",
       "      <td>0</td>\n",
       "      <td>0</td>\n",
       "      <td>En charge d'un portefeuille clients de 10 à 15...</td>\n",
       "      <td>Postedil y a 10 jours</td>\n",
       "    </tr>\n",
       "    <tr>\n",
       "      <th>4</th>\n",
       "      <td>c4c7fd2b6af9e98d</td>\n",
       "      <td>Business Developer H/F</td>\n",
       "      <td>OUIHELP</td>\n",
       "      <td>Tours (37)</td>\n",
       "      <td>Tours</td>\n",
       "      <td>32 000 € - 40 000 € par an</td>\n",
       "      <td>0</td>\n",
       "      <td>0</td>\n",
       "      <td>0</td>\n",
       "      <td>0</td>\n",
       "      <td>1</td>\n",
       "      <td>32000</td>\n",
       "      <td>40000</td>\n",
       "      <td>36000.0</td>\n",
       "      <td>0</td>\n",
       "      <td>0</td>\n",
       "      <td>Prospecter et constituer un portefeuille de no...</td>\n",
       "      <td>EmployerDernière activité : il y a 14 jours</td>\n",
       "    </tr>\n",
       "  </tbody>\n",
       "</table>\n",
       "</div>"
      ],
      "text/plain": [
       "                _id                                          job_title  \\\n",
       "0  3150bb96f5dc39e7               Software Engineer - AR / VR (London)   \n",
       "1  9528bcde2fb94a69  #AGGP – Graduate On Board Computer Simulation ...   \n",
       "2  546e7b016e55a5ad                                    Product Manager   \n",
       "3  0c783b1550c11546                           Business Developer (H/F)   \n",
       "4  c4c7fd2b6af9e98d                             Business Developer H/F   \n",
       "\n",
       "        company           job_location clean_location  \\\n",
       "0        Oculus            Télétravail                  \n",
       "1        Airbus         31300 Toulouse                  \n",
       "2  Facebook App            Télétravail                  \n",
       "3      MICHELIN  Clermont-Ferrand (63)       Clermont   \n",
       "4       OUIHELP             Tours (37)         Tours    \n",
       "\n",
       "                       salary  per_hour  per_day  per_week  per_month  \\\n",
       "0                                     0        0         0          0   \n",
       "1                                     0        0         0          0   \n",
       "2                                     0        0         0          0   \n",
       "3  37 000 € - 55 000 € par an         0        0         0          0   \n",
       "4  32 000 € - 40 000 € par an         0        0         0          0   \n",
       "\n",
       "   per_year min_salary max_salary  mean_salary  monthly_salary  annual_salary  \\\n",
       "0         0          0          0          0.0               0              0   \n",
       "1         0          0          0          0.0               0              0   \n",
       "2         0          0          0          0.0               0              0   \n",
       "3         1      37000      55000      46000.0               0              0   \n",
       "4         1      32000      40000      36000.0               0              0   \n",
       "\n",
       "                                             summary  \\\n",
       "0  We are looking for those with the ability to b...   \n",
       "1  You will be on a development pathway to prepar...   \n",
       "2  The Platform and Developer tools PM's are resp...   \n",
       "3  En charge d'un portefeuille clients de 10 à 15...   \n",
       "4  Prospecter et constituer un portefeuille de no...   \n",
       "\n",
       "                                     post_date  \n",
       "0                       Postedil y a 30+ jours  \n",
       "1                         Postedil y a 2 jours  \n",
       "2                         Postedil y a 5 jours  \n",
       "3                        Postedil y a 10 jours  \n",
       "4  EmployerDernière activité : il y a 14 jours  "
      ]
     },
     "execution_count": 5,
     "metadata": {},
     "output_type": "execute_result"
    }
   ],
   "source": [
    "df.head()"
   ]
  },
  {
   "cell_type": "code",
   "execution_count": 6,
   "id": "39c8ea9a",
   "metadata": {},
   "outputs": [
    {
     "data": {
      "text/plain": [
       "(6534, 18)"
      ]
     },
     "execution_count": 6,
     "metadata": {},
     "output_type": "execute_result"
    }
   ],
   "source": [
    "df.shape"
   ]
  },
  {
   "cell_type": "markdown",
   "id": "45475c1a",
   "metadata": {},
   "source": [
    "# Preprocessing"
   ]
  },
  {
   "cell_type": "code",
   "execution_count": 7,
   "id": "cbe2f229",
   "metadata": {},
   "outputs": [],
   "source": [
    "#df.drop(['_id','summary,'], axis=1, inplace=True)\n",
    "df = df.filter(['clean_location', 'mean_salary'])"
   ]
  },
  {
   "cell_type": "code",
   "execution_count": 8,
   "id": "9b335656",
   "metadata": {},
   "outputs": [
    {
     "data": {
      "text/html": [
       "<div>\n",
       "<style scoped>\n",
       "    .dataframe tbody tr th:only-of-type {\n",
       "        vertical-align: middle;\n",
       "    }\n",
       "\n",
       "    .dataframe tbody tr th {\n",
       "        vertical-align: top;\n",
       "    }\n",
       "\n",
       "    .dataframe thead th {\n",
       "        text-align: right;\n",
       "    }\n",
       "</style>\n",
       "<table border=\"1\" class=\"dataframe\">\n",
       "  <thead>\n",
       "    <tr style=\"text-align: right;\">\n",
       "      <th></th>\n",
       "      <th>clean_location</th>\n",
       "      <th>mean_salary</th>\n",
       "    </tr>\n",
       "  </thead>\n",
       "  <tbody>\n",
       "    <tr>\n",
       "      <th>0</th>\n",
       "      <td></td>\n",
       "      <td>0.0</td>\n",
       "    </tr>\n",
       "    <tr>\n",
       "      <th>1</th>\n",
       "      <td></td>\n",
       "      <td>0.0</td>\n",
       "    </tr>\n",
       "    <tr>\n",
       "      <th>2</th>\n",
       "      <td></td>\n",
       "      <td>0.0</td>\n",
       "    </tr>\n",
       "    <tr>\n",
       "      <th>3</th>\n",
       "      <td>Clermont</td>\n",
       "      <td>46000.0</td>\n",
       "    </tr>\n",
       "    <tr>\n",
       "      <th>4</th>\n",
       "      <td>Tours</td>\n",
       "      <td>36000.0</td>\n",
       "    </tr>\n",
       "  </tbody>\n",
       "</table>\n",
       "</div>"
      ],
      "text/plain": [
       "  clean_location  mean_salary\n",
       "0                         0.0\n",
       "1                         0.0\n",
       "2                         0.0\n",
       "3       Clermont      46000.0\n",
       "4         Tours       36000.0"
      ]
     },
     "execution_count": 8,
     "metadata": {},
     "output_type": "execute_result"
    }
   ],
   "source": [
    "df.head()"
   ]
  },
  {
   "cell_type": "code",
   "execution_count": 9,
   "id": "de476480",
   "metadata": {},
   "outputs": [],
   "source": [
    "df = df[df['mean_salary'] != 0]\n",
    "#df[['bought_apples','bought_pears']].sum(axis=1) > 0"
   ]
  },
  {
   "cell_type": "code",
   "execution_count": 10,
   "id": "f518c9b9",
   "metadata": {},
   "outputs": [
    {
     "data": {
      "text/html": [
       "<div>\n",
       "<style scoped>\n",
       "    .dataframe tbody tr th:only-of-type {\n",
       "        vertical-align: middle;\n",
       "    }\n",
       "\n",
       "    .dataframe tbody tr th {\n",
       "        vertical-align: top;\n",
       "    }\n",
       "\n",
       "    .dataframe thead th {\n",
       "        text-align: right;\n",
       "    }\n",
       "</style>\n",
       "<table border=\"1\" class=\"dataframe\">\n",
       "  <thead>\n",
       "    <tr style=\"text-align: right;\">\n",
       "      <th></th>\n",
       "      <th>clean_location</th>\n",
       "      <th>mean_salary</th>\n",
       "    </tr>\n",
       "  </thead>\n",
       "  <tbody>\n",
       "    <tr>\n",
       "      <th>3</th>\n",
       "      <td>Clermont</td>\n",
       "      <td>46000.0</td>\n",
       "    </tr>\n",
       "    <tr>\n",
       "      <th>4</th>\n",
       "      <td>Tours</td>\n",
       "      <td>36000.0</td>\n",
       "    </tr>\n",
       "    <tr>\n",
       "      <th>10</th>\n",
       "      <td>Paris</td>\n",
       "      <td>32500.0</td>\n",
       "    </tr>\n",
       "    <tr>\n",
       "      <th>12</th>\n",
       "      <td>Nantes</td>\n",
       "      <td>35.5</td>\n",
       "    </tr>\n",
       "    <tr>\n",
       "      <th>15</th>\n",
       "      <td>Tours lieu</td>\n",
       "      <td>37500.0</td>\n",
       "    </tr>\n",
       "    <tr>\n",
       "      <th>...</th>\n",
       "      <td>...</td>\n",
       "      <td>...</td>\n",
       "    </tr>\n",
       "    <tr>\n",
       "      <th>6501</th>\n",
       "      <td>Charenton</td>\n",
       "      <td>600.0</td>\n",
       "    </tr>\n",
       "    <tr>\n",
       "      <th>6505</th>\n",
       "      <td>Tremblay</td>\n",
       "      <td>41000.0</td>\n",
       "    </tr>\n",
       "    <tr>\n",
       "      <th>6513</th>\n",
       "      <td>Télétravail  lyon</td>\n",
       "      <td>27500.0</td>\n",
       "    </tr>\n",
       "    <tr>\n",
       "      <th>6528</th>\n",
       "      <td>Télétravail mayenne</td>\n",
       "      <td>35500.0</td>\n",
       "    </tr>\n",
       "    <tr>\n",
       "      <th>6529</th>\n",
       "      <td>Strasbourg</td>\n",
       "      <td>42500.0</td>\n",
       "    </tr>\n",
       "  </tbody>\n",
       "</table>\n",
       "<p>726 rows × 2 columns</p>\n",
       "</div>"
      ],
      "text/plain": [
       "           clean_location  mean_salary\n",
       "3                Clermont      46000.0\n",
       "4                  Tours       36000.0\n",
       "10                 Paris       32500.0\n",
       "12                 Nantes         35.5\n",
       "15             Tours lieu      37500.0\n",
       "...                   ...          ...\n",
       "6501            Charenton        600.0\n",
       "6505             Tremblay      41000.0\n",
       "6513    Télétravail  lyon      27500.0\n",
       "6528  Télétravail mayenne      35500.0\n",
       "6529          Strasbourg       42500.0\n",
       "\n",
       "[726 rows x 2 columns]"
      ]
     },
     "execution_count": 10,
     "metadata": {},
     "output_type": "execute_result"
    }
   ],
   "source": [
    "df"
   ]
  },
  {
   "cell_type": "markdown",
   "id": "18393941",
   "metadata": {},
   "source": [
    "Colonne catégorie"
   ]
  },
  {
   "cell_type": "code",
   "execution_count": 11,
   "id": "16696794",
   "metadata": {},
   "outputs": [],
   "source": [
    "categorical_columns = ['clean_location']\n",
    "all_columns = ['mean_salary']#df.columns"
   ]
  },
  {
   "cell_type": "code",
   "execution_count": 12,
   "id": "84eb93b1",
   "metadata": {},
   "outputs": [
    {
     "data": {
      "text/plain": [
       "['clean_location']"
      ]
     },
     "execution_count": 12,
     "metadata": {},
     "output_type": "execute_result"
    }
   ],
   "source": [
    "categorical_columns"
   ]
  },
  {
   "cell_type": "markdown",
   "id": "54007eeb",
   "metadata": {},
   "source": [
    "Features preprocessing"
   ]
  },
  {
   "cell_type": "code",
   "execution_count": 13,
   "id": "d4b4d450",
   "metadata": {},
   "outputs": [
    {
     "data": {
      "text/html": [
       "<div>\n",
       "<style scoped>\n",
       "    .dataframe tbody tr th:only-of-type {\n",
       "        vertical-align: middle;\n",
       "    }\n",
       "\n",
       "    .dataframe tbody tr th {\n",
       "        vertical-align: top;\n",
       "    }\n",
       "\n",
       "    .dataframe thead th {\n",
       "        text-align: right;\n",
       "    }\n",
       "</style>\n",
       "<table border=\"1\" class=\"dataframe\">\n",
       "  <thead>\n",
       "    <tr style=\"text-align: right;\">\n",
       "      <th></th>\n",
       "      <th>clean_location</th>\n",
       "    </tr>\n",
       "  </thead>\n",
       "  <tbody>\n",
       "    <tr>\n",
       "      <th>3</th>\n",
       "      <td>Clermont</td>\n",
       "    </tr>\n",
       "    <tr>\n",
       "      <th>4</th>\n",
       "      <td>Tours</td>\n",
       "    </tr>\n",
       "    <tr>\n",
       "      <th>10</th>\n",
       "      <td>Paris</td>\n",
       "    </tr>\n",
       "    <tr>\n",
       "      <th>12</th>\n",
       "      <td>Nantes</td>\n",
       "    </tr>\n",
       "    <tr>\n",
       "      <th>15</th>\n",
       "      <td>Tours lieu</td>\n",
       "    </tr>\n",
       "  </tbody>\n",
       "</table>\n",
       "</div>"
      ],
      "text/plain": [
       "   clean_location\n",
       "3        Clermont\n",
       "4          Tours \n",
       "10         Paris \n",
       "12         Nantes\n",
       "15     Tours lieu"
      ]
     },
     "execution_count": 13,
     "metadata": {},
     "output_type": "execute_result"
    }
   ],
   "source": [
    "X = df.drop(columns=['mean_salary'])\n",
    "X.head()"
   ]
  },
  {
   "cell_type": "code",
   "execution_count": 14,
   "id": "5b171f7b",
   "metadata": {},
   "outputs": [
    {
     "data": {
      "text/plain": [
       "3     46000.0\n",
       "4     36000.0\n",
       "10    32500.0\n",
       "12       35.5\n",
       "15    37500.0\n",
       "Name: mean_salary, dtype: float64"
      ]
     },
     "execution_count": 14,
     "metadata": {},
     "output_type": "execute_result"
    }
   ],
   "source": [
    "y = df['mean_salary']\n",
    "y.head()"
   ]
  },
  {
   "cell_type": "code",
   "execution_count": 15,
   "id": "1446ac1b",
   "metadata": {},
   "outputs": [],
   "source": [
    "class transformToPredict(BaseEstimator,TransformerMixin):\n",
    "    def __init__(self):\n",
    "        return None\n",
    "    \n",
    "    def fit(self, X, y =None):\n",
    "        return self\n",
    "    \n",
    "    def transform(self, X, y =None):\n",
    "        \n",
    "        if not isinstance(X, pd.DataFrame):\n",
    "            # Creation d'un dataframe\n",
    "            dic = {'clean_location': X}\n",
    "            df = pd.DataFrame(dic, index=[0]) \n",
    "        else:\n",
    "            df = X.copy()\n",
    "   \n",
    "        return df"
   ]
  },
  {
   "cell_type": "code",
   "execution_count": 16,
   "id": "76a0c823",
   "metadata": {},
   "outputs": [],
   "source": [
    "# 1er pipeline pour traitement du df\n",
    "transfo_to_df = Pipeline(steps=[\n",
    "    ('base', transformToPredict)\n",
    "])"
   ]
  },
  {
   "cell_type": "code",
   "execution_count": 17,
   "id": "4ed10d66",
   "metadata": {},
   "outputs": [],
   "source": [
    "transfo_cat = Pipeline(steps=[\n",
    "    #('imputation', SimpleImputer(strategy='most_frequent')), Donnees manquantes ? a voir\n",
    "    ('onehot', OneHotEncoder(handle_unknown='ignore', sparse = False))\n",
    "])"
   ]
  },
  {
   "cell_type": "code",
   "execution_count": 18,
   "id": "ddfe52cd",
   "metadata": {},
   "outputs": [],
   "source": [
    "#transfo_df = Pipeline(steps=[\n",
    "#    ('scaling', MinMaxScaler())\n",
    "#])"
   ]
  },
  {
   "cell_type": "code",
   "execution_count": 19,
   "id": "cf6e81a4",
   "metadata": {},
   "outputs": [],
   "source": [
    "preparation = ColumnTransformer(\n",
    "    transformers=[\n",
    "        ('data_cat', transfo_cat , categorical_columns)\n",
    "        #('data_df', transfo_df , all_columns)\n",
    "    ])"
   ]
  },
  {
   "cell_type": "markdown",
   "id": "3a1dcd21",
   "metadata": {},
   "source": [
    "# Model"
   ]
  },
  {
   "cell_type": "code",
   "execution_count": 20,
   "id": "429a41a9",
   "metadata": {},
   "outputs": [
    {
     "data": {
      "text/plain": [
       "Pipeline(steps=[('base', transformToPredict()),\n",
       "                ('preparation',\n",
       "                 ColumnTransformer(transformers=[('data_cat',\n",
       "                                                  Pipeline(steps=[('onehot',\n",
       "                                                                   OneHotEncoder(handle_unknown='ignore',\n",
       "                                                                                 sparse=False))]),\n",
       "                                                  ['clean_location'])])),\n",
       "                ('model', LinearRegression())])"
      ]
     },
     "execution_count": 20,
     "metadata": {},
     "output_type": "execute_result"
    }
   ],
   "source": [
    "model = LinearRegression()\n",
    "pipe_model = Pipeline(steps=[\n",
    "    ('base',transformToPredict()),\n",
    "    ('preparation', preparation),\n",
    "    ('model',model)])\n",
    "pipe_model"
   ]
  },
  {
   "cell_type": "markdown",
   "id": "c960b8dd",
   "metadata": {},
   "source": [
    "# Traint test split"
   ]
  },
  {
   "cell_type": "code",
   "execution_count": 21,
   "id": "0a7518e6",
   "metadata": {},
   "outputs": [],
   "source": [
    "X_train, X_test, y_train, y_test = train_test_split(X, y, test_size=0.20, random_state=2) #stratify=y"
   ]
  },
  {
   "cell_type": "code",
   "execution_count": 22,
   "id": "2fdf95e6",
   "metadata": {},
   "outputs": [
    {
     "data": {
      "text/plain": [
       "Pipeline(steps=[('base', transformToPredict()),\n",
       "                ('preparation',\n",
       "                 ColumnTransformer(transformers=[('data_cat',\n",
       "                                                  Pipeline(steps=[('onehot',\n",
       "                                                                   OneHotEncoder(handle_unknown='ignore',\n",
       "                                                                                 sparse=False))]),\n",
       "                                                  ['clean_location'])])),\n",
       "                ('model', LinearRegression())])"
      ]
     },
     "execution_count": 22,
     "metadata": {},
     "output_type": "execute_result"
    }
   ],
   "source": [
    "pipe_model.fit(X_train,y_train)"
   ]
  },
  {
   "cell_type": "markdown",
   "id": "a288e3d2",
   "metadata": {},
   "source": [
    "# Model evaluation"
   ]
  },
  {
   "cell_type": "code",
   "execution_count": 23,
   "id": "26512b7d",
   "metadata": {},
   "outputs": [
    {
     "data": {
      "text/plain": [
       "0.3574568407359783"
      ]
     },
     "execution_count": 23,
     "metadata": {},
     "output_type": "execute_result"
    }
   ],
   "source": [
    "pipe_model.score(X_train, y_train)"
   ]
  },
  {
   "cell_type": "code",
   "execution_count": 28,
   "id": "4788d06f",
   "metadata": {},
   "outputs": [
    {
     "data": {
      "text/plain": [
       "array([18118.])"
      ]
     },
     "execution_count": 28,
     "metadata": {},
     "output_type": "execute_result"
    }
   ],
   "source": [
    "pipe_model.predict('Nantes')"
   ]
  }
 ],
 "metadata": {
  "kernelspec": {
   "display_name": "Python 3 (ipykernel)",
   "language": "python",
   "name": "python3"
  },
  "language_info": {
   "codemirror_mode": {
    "name": "ipython",
    "version": 3
   },
   "file_extension": ".py",
   "mimetype": "text/x-python",
   "name": "python",
   "nbconvert_exporter": "python",
   "pygments_lexer": "ipython3",
   "version": "3.8.12"
  }
 },
 "nbformat": 4,
 "nbformat_minor": 5
}
